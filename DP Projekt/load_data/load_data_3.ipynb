{
 "cells": [
  {
   "cell_type": "markdown",
   "metadata": {},
   "source": [
    "Import Data"
   ]
  },
  {
   "cell_type": "code",
   "execution_count": 1,
   "metadata": {},
   "outputs": [
    {
     "name": "stderr",
     "output_type": "stream",
     "text": [
      "C:\\Users\\danstorm\\AppData\\Local\\Temp\\ipykernel_10596\\1473312121.py:8: DtypeWarning: Columns (0,1,4) have mixed types. Specify dtype option on import or set low_memory=False.\n",
      "  df = pd.read_csv(data_path, names=column_names)\n"
     ]
    },
    {
     "data": {
      "text/html": [
       "<div>\n",
       "<style scoped>\n",
       "    .dataframe tbody tr th:only-of-type {\n",
       "        vertical-align: middle;\n",
       "    }\n",
       "\n",
       "    .dataframe tbody tr th {\n",
       "        vertical-align: top;\n",
       "    }\n",
       "\n",
       "    .dataframe thead th {\n",
       "        text-align: right;\n",
       "    }\n",
       "</style>\n",
       "<table border=\"1\" class=\"dataframe\">\n",
       "  <thead>\n",
       "    <tr style=\"text-align: right;\">\n",
       "      <th></th>\n",
       "      <th>longitude</th>\n",
       "      <th>latitude</th>\n",
       "      <th>id</th>\n",
       "      <th>hash</th>\n",
       "      <th>position</th>\n",
       "    </tr>\n",
       "  </thead>\n",
       "  <tbody>\n",
       "    <tr>\n",
       "      <th>0</th>\n",
       "      <td>lon</td>\n",
       "      <td>lat</td>\n",
       "      <td>id</td>\n",
       "      <td>hash</td>\n",
       "      <td>position</td>\n",
       "    </tr>\n",
       "    <tr>\n",
       "      <th>1</th>\n",
       "      <td>17.111658563447534</td>\n",
       "      <td>48.11643745415595</td>\n",
       "      <td>t_0_0_d_4</td>\n",
       "      <td>u2s1trk</td>\n",
       "      <td>0</td>\n",
       "    </tr>\n",
       "    <tr>\n",
       "      <th>2</th>\n",
       "      <td>17.112591771088038</td>\n",
       "      <td>48.11665656299277</td>\n",
       "      <td>t_0_0_d_4</td>\n",
       "      <td>u2s1trm</td>\n",
       "      <td>1</td>\n",
       "    </tr>\n",
       "    <tr>\n",
       "      <th>3</th>\n",
       "      <td>17.112522923621654</td>\n",
       "      <td>48.11689630835807</td>\n",
       "      <td>t_0_0_d_4</td>\n",
       "      <td>u2s1trk</td>\n",
       "      <td>2</td>\n",
       "    </tr>\n",
       "    <tr>\n",
       "      <th>4</th>\n",
       "      <td>17.111000868759724</td>\n",
       "      <td>48.11709256272415</td>\n",
       "      <td>t_0_0_d_4</td>\n",
       "      <td>u2s1tr7</td>\n",
       "      <td>3</td>\n",
       "    </tr>\n",
       "    <tr>\n",
       "      <th>...</th>\n",
       "      <td>...</td>\n",
       "      <td>...</td>\n",
       "      <td>...</td>\n",
       "      <td>...</td>\n",
       "      <td>...</td>\n",
       "    </tr>\n",
       "    <tr>\n",
       "      <th>4998427</th>\n",
       "      <td>17.11673</td>\n",
       "      <td>48.141037</td>\n",
       "      <td>t_9_0_r_9</td>\n",
       "      <td>u2s1veb</td>\n",
       "      <td>5032467</td>\n",
       "    </tr>\n",
       "    <tr>\n",
       "      <th>4998428</th>\n",
       "      <td>17.115989</td>\n",
       "      <td>48.141222</td>\n",
       "      <td>t_9_0_r_9</td>\n",
       "      <td>u2s1v7z</td>\n",
       "      <td>5032468</td>\n",
       "    </tr>\n",
       "    <tr>\n",
       "      <th>4998429</th>\n",
       "      <td>17.11212</td>\n",
       "      <td>48.140164</td>\n",
       "      <td>t_9_0_r_9</td>\n",
       "      <td>u2s1v7s</td>\n",
       "      <td>5032469</td>\n",
       "    </tr>\n",
       "    <tr>\n",
       "      <th>4998430</th>\n",
       "      <td>17.116074</td>\n",
       "      <td>48.141134</td>\n",
       "      <td>t_9_0_r_9</td>\n",
       "      <td>u2s1v7z</td>\n",
       "      <td>5032470</td>\n",
       "    </tr>\n",
       "    <tr>\n",
       "      <th>4998431</th>\n",
       "      <td>17.114765</td>\n",
       "      <td>48.141126</td>\n",
       "      <td>t_9_0_r_9</td>\n",
       "      <td>u2s1v7y</td>\n",
       "      <td>5032471</td>\n",
       "    </tr>\n",
       "  </tbody>\n",
       "</table>\n",
       "<p>4998432 rows × 5 columns</p>\n",
       "</div>"
      ],
      "text/plain": [
       "                  longitude           latitude         id     hash  position\n",
       "0                       lon                lat         id     hash  position\n",
       "1        17.111658563447534  48.11643745415595  t_0_0_d_4  u2s1trk         0\n",
       "2        17.112591771088038  48.11665656299277  t_0_0_d_4  u2s1trm         1\n",
       "3        17.112522923621654  48.11689630835807  t_0_0_d_4  u2s1trk         2\n",
       "4        17.111000868759724  48.11709256272415  t_0_0_d_4  u2s1tr7         3\n",
       "...                     ...                ...        ...      ...       ...\n",
       "4998427            17.11673          48.141037  t_9_0_r_9  u2s1veb   5032467\n",
       "4998428           17.115989          48.141222  t_9_0_r_9  u2s1v7z   5032468\n",
       "4998429            17.11212          48.140164  t_9_0_r_9  u2s1v7s   5032469\n",
       "4998430           17.116074          48.141134  t_9_0_r_9  u2s1v7z   5032470\n",
       "4998431           17.114765          48.141126  t_9_0_r_9  u2s1v7y   5032471\n",
       "\n",
       "[4998432 rows x 5 columns]"
      ]
     },
     "execution_count": 1,
     "metadata": {},
     "output_type": "execute_result"
    }
   ],
   "source": [
    "import pandas as pd\n",
    "\n",
    "# Path to data\n",
    "data_path = '../data3/syntetic_data_bratislava.csv'\n",
    "\n",
    "column_names = ['longitude', 'latitude', 'id', 'hash', 'position']\n",
    "\n",
    "df = pd.read_csv(data_path, names=column_names)\n",
    "\n",
    "df"
   ]
  },
  {
   "cell_type": "markdown",
   "metadata": {},
   "source": [
    "Save data"
   ]
  },
  {
   "cell_type": "code",
   "execution_count": 2,
   "metadata": {},
   "outputs": [],
   "source": [
    "# Save DataFrame to a CSV file\n",
    "df.to_csv('../model/gps_data3.csv', index=False)"
   ]
  }
 ],
 "metadata": {
  "kernelspec": {
   "display_name": "Python 3",
   "language": "python",
   "name": "python3"
  },
  "language_info": {
   "codemirror_mode": {
    "name": "ipython",
    "version": 3
   },
   "file_extension": ".py",
   "mimetype": "text/x-python",
   "name": "python",
   "nbconvert_exporter": "python",
   "pygments_lexer": "ipython3",
   "version": "3.12.0"
  }
 },
 "nbformat": 4,
 "nbformat_minor": 2
}
