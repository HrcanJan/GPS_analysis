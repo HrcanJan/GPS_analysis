{
 "cells": [
  {
   "cell_type": "markdown",
   "metadata": {},
   "source": [
    "Import Data"
   ]
  },
  {
   "cell_type": "code",
   "execution_count": 1,
   "metadata": {},
   "outputs": [],
   "source": [
    "import pandas as pd\n",
    "import os\n",
    "from tqdm import tqdm\n",
    "\n",
    "# Path to data\n",
    "data_path = '../data2/taxi_log_2008_by_id'"
   ]
  },
  {
   "cell_type": "markdown",
   "metadata": {},
   "source": [
    "Load data"
   ]
  },
  {
   "cell_type": "code",
   "execution_count": 2,
   "metadata": {},
   "outputs": [
    {
     "name": "stderr",
     "output_type": "stream",
     "text": [
      "  0%|          | 0/10357 [00:00<?, ?it/s]"
     ]
    },
    {
     "name": "stderr",
     "output_type": "stream",
     "text": [
      "100%|██████████| 10357/10357 [01:33<00:00, 110.39it/s]\n"
     ]
    }
   ],
   "source": [
    "dataframes = []\n",
    "\n",
    "for file in tqdm(os.listdir(data_path)):\n",
    "\tfile_path = os.path.join(data_path, file)\n",
    "\n",
    "\ttry:\n",
    "\t\tcolumn_names = ['Taxi ID', 'Timestamp', 'Longitude', 'Latitude']\n",
    "\t\tlabels_df = pd.read_csv(file_path, sep=',', names=column_names)\n",
    "\n",
    "\t\tdataframes.append(labels_df)\n",
    "\texcept pd.errors.EmptyDataError:\n",
    "\t\tcontinue"
   ]
  },
  {
   "cell_type": "markdown",
   "metadata": {},
   "source": [
    "Concat Data"
   ]
  },
  {
   "cell_type": "code",
   "execution_count": 3,
   "metadata": {},
   "outputs": [
    {
     "name": "stderr",
     "output_type": "stream",
     "text": [
      "C:\\Users\\danstorm\\AppData\\Local\\Temp\\ipykernel_8428\\1014957571.py:1: FutureWarning: The behavior of DataFrame concatenation with empty or all-NA entries is deprecated. In a future version, this will no longer exclude empty or all-NA columns when determining the result dtypes. To retain the old behavior, exclude the relevant entries before the concat operation.\n",
      "  gps_data = pd.concat(dataframes, ignore_index=True)\n"
     ]
    },
    {
     "data": {
      "text/html": [
       "<div>\n",
       "<style scoped>\n",
       "    .dataframe tbody tr th:only-of-type {\n",
       "        vertical-align: middle;\n",
       "    }\n",
       "\n",
       "    .dataframe tbody tr th {\n",
       "        vertical-align: top;\n",
       "    }\n",
       "\n",
       "    .dataframe thead th {\n",
       "        text-align: right;\n",
       "    }\n",
       "</style>\n",
       "<table border=\"1\" class=\"dataframe\">\n",
       "  <thead>\n",
       "    <tr style=\"text-align: right;\">\n",
       "      <th></th>\n",
       "      <th>Taxi ID</th>\n",
       "      <th>Timestamp</th>\n",
       "      <th>Longitude</th>\n",
       "      <th>Latitude</th>\n",
       "    </tr>\n",
       "  </thead>\n",
       "  <tbody>\n",
       "    <tr>\n",
       "      <th>0</th>\n",
       "      <td>1</td>\n",
       "      <td>2008-02-02 15:36:08</td>\n",
       "      <td>116.51172</td>\n",
       "      <td>39.92123</td>\n",
       "    </tr>\n",
       "    <tr>\n",
       "      <th>1</th>\n",
       "      <td>1</td>\n",
       "      <td>2008-02-02 15:46:08</td>\n",
       "      <td>116.51135</td>\n",
       "      <td>39.93883</td>\n",
       "    </tr>\n",
       "    <tr>\n",
       "      <th>2</th>\n",
       "      <td>1</td>\n",
       "      <td>2008-02-02 15:46:08</td>\n",
       "      <td>116.51135</td>\n",
       "      <td>39.93883</td>\n",
       "    </tr>\n",
       "    <tr>\n",
       "      <th>3</th>\n",
       "      <td>1</td>\n",
       "      <td>2008-02-02 15:56:08</td>\n",
       "      <td>116.51627</td>\n",
       "      <td>39.91034</td>\n",
       "    </tr>\n",
       "    <tr>\n",
       "      <th>4</th>\n",
       "      <td>1</td>\n",
       "      <td>2008-02-02 16:06:08</td>\n",
       "      <td>116.47186</td>\n",
       "      <td>39.91248</td>\n",
       "    </tr>\n",
       "    <tr>\n",
       "      <th>...</th>\n",
       "      <td>...</td>\n",
       "      <td>...</td>\n",
       "      <td>...</td>\n",
       "      <td>...</td>\n",
       "    </tr>\n",
       "    <tr>\n",
       "      <th>17662979</th>\n",
       "      <td>9999</td>\n",
       "      <td>2008-02-08 17:11:13</td>\n",
       "      <td>116.27644</td>\n",
       "      <td>39.99720</td>\n",
       "    </tr>\n",
       "    <tr>\n",
       "      <th>17662980</th>\n",
       "      <td>9999</td>\n",
       "      <td>2008-02-08 17:16:15</td>\n",
       "      <td>116.28298</td>\n",
       "      <td>39.99740</td>\n",
       "    </tr>\n",
       "    <tr>\n",
       "      <th>17662981</th>\n",
       "      <td>9999</td>\n",
       "      <td>2008-02-08 17:21:17</td>\n",
       "      <td>116.28896</td>\n",
       "      <td>39.99235</td>\n",
       "    </tr>\n",
       "    <tr>\n",
       "      <th>17662982</th>\n",
       "      <td>9999</td>\n",
       "      <td>2008-02-08 17:26:19</td>\n",
       "      <td>116.28925</td>\n",
       "      <td>39.98273</td>\n",
       "    </tr>\n",
       "    <tr>\n",
       "      <th>17662983</th>\n",
       "      <td>9999</td>\n",
       "      <td>2008-02-08 17:36:23</td>\n",
       "      <td>116.26768</td>\n",
       "      <td>39.90663</td>\n",
       "    </tr>\n",
       "  </tbody>\n",
       "</table>\n",
       "<p>17662984 rows × 4 columns</p>\n",
       "</div>"
      ],
      "text/plain": [
       "         Taxi ID            Timestamp  Longitude  Latitude\n",
       "0              1  2008-02-02 15:36:08  116.51172  39.92123\n",
       "1              1  2008-02-02 15:46:08  116.51135  39.93883\n",
       "2              1  2008-02-02 15:46:08  116.51135  39.93883\n",
       "3              1  2008-02-02 15:56:08  116.51627  39.91034\n",
       "4              1  2008-02-02 16:06:08  116.47186  39.91248\n",
       "...          ...                  ...        ...       ...\n",
       "17662979    9999  2008-02-08 17:11:13  116.27644  39.99720\n",
       "17662980    9999  2008-02-08 17:16:15  116.28298  39.99740\n",
       "17662981    9999  2008-02-08 17:21:17  116.28896  39.99235\n",
       "17662982    9999  2008-02-08 17:26:19  116.28925  39.98273\n",
       "17662983    9999  2008-02-08 17:36:23  116.26768  39.90663\n",
       "\n",
       "[17662984 rows x 4 columns]"
      ]
     },
     "execution_count": 3,
     "metadata": {},
     "output_type": "execute_result"
    }
   ],
   "source": [
    "gps_data = pd.concat(dataframes, ignore_index=True)\n",
    "gps_data"
   ]
  },
  {
   "cell_type": "markdown",
   "metadata": {},
   "source": [
    "Reduce data to Beijing Urban only"
   ]
  },
  {
   "cell_type": "code",
   "execution_count": 4,
   "metadata": {},
   "outputs": [],
   "source": [
    "gps_data = gps_data[gps_data['Latitude'] >= 39.75]\n",
    "gps_data = gps_data[gps_data['Latitude'] <= 40.1]\n",
    "gps_data = gps_data[gps_data['Longitude'] >= 116.18]\n",
    "gps_data = gps_data[gps_data['Longitude'] <= 116.6]"
   ]
  },
  {
   "cell_type": "markdown",
   "metadata": {},
   "source": [
    "Save data"
   ]
  },
  {
   "cell_type": "code",
   "execution_count": 5,
   "metadata": {},
   "outputs": [],
   "source": [
    "# Save DataFrame to a CSV file\n",
    "gps_data.to_csv('../model/gps_data2.csv', index=False)"
   ]
  }
 ],
 "metadata": {
  "kernelspec": {
   "display_name": "Python 3",
   "language": "python",
   "name": "python3"
  },
  "language_info": {
   "codemirror_mode": {
    "name": "ipython",
    "version": 3
   },
   "file_extension": ".py",
   "mimetype": "text/x-python",
   "name": "python",
   "nbconvert_exporter": "python",
   "pygments_lexer": "ipython3",
   "version": "3.12.0"
  }
 },
 "nbformat": 4,
 "nbformat_minor": 2
}
