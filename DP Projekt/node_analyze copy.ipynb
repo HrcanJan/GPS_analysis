{
 "cells": [
  {
   "cell_type": "code",
   "execution_count": 1,
   "metadata": {},
   "outputs": [],
   "source": [
    "import json\n",
    "from collections import defaultdict\n",
    "import pandas as pd\n",
    "import numpy as np\n",
    "from tqdm import tqdm\n",
    "from scipy.spatial import cKDTree\n",
    "from itertools import combinations\n",
    "from haversine import haversine"
   ]
  },
  {
   "cell_type": "code",
   "execution_count": 2,
   "metadata": {},
   "outputs": [],
   "source": [
    "# Load data from the CSV file into a new DataFrame\n",
    "data = pd.read_csv('./model/gps_data_geolife.csv')"
   ]
  },
  {
   "cell_type": "code",
   "execution_count": 5,
   "metadata": {},
   "outputs": [
    {
     "data": {
      "text/html": [
       "<div>\n",
       "<style scoped>\n",
       "    .dataframe tbody tr th:only-of-type {\n",
       "        vertical-align: middle;\n",
       "    }\n",
       "\n",
       "    .dataframe tbody tr th {\n",
       "        vertical-align: top;\n",
       "    }\n",
       "\n",
       "    .dataframe thead th {\n",
       "        text-align: right;\n",
       "    }\n",
       "</style>\n",
       "<table border=\"1\" class=\"dataframe\">\n",
       "  <thead>\n",
       "    <tr style=\"text-align: right;\">\n",
       "      <th></th>\n",
       "      <th>Person ID</th>\n",
       "      <th>Latitude</th>\n",
       "      <th>Longitude</th>\n",
       "      <th>0</th>\n",
       "      <th>Altitude</th>\n",
       "      <th>Timestamp</th>\n",
       "    </tr>\n",
       "  </thead>\n",
       "  <tbody>\n",
       "    <tr>\n",
       "      <th>0</th>\n",
       "      <td>0</td>\n",
       "      <td>39.984702</td>\n",
       "      <td>116.318417</td>\n",
       "      <td>0</td>\n",
       "      <td>492.000000</td>\n",
       "      <td>2008-10-23 02:53:04</td>\n",
       "    </tr>\n",
       "    <tr>\n",
       "      <th>1</th>\n",
       "      <td>0</td>\n",
       "      <td>39.984683</td>\n",
       "      <td>116.318450</td>\n",
       "      <td>0</td>\n",
       "      <td>492.000000</td>\n",
       "      <td>2008-10-23 02:53:10</td>\n",
       "    </tr>\n",
       "    <tr>\n",
       "      <th>2</th>\n",
       "      <td>0</td>\n",
       "      <td>39.984686</td>\n",
       "      <td>116.318417</td>\n",
       "      <td>0</td>\n",
       "      <td>492.000000</td>\n",
       "      <td>2008-10-23 02:53:15</td>\n",
       "    </tr>\n",
       "    <tr>\n",
       "      <th>3</th>\n",
       "      <td>0</td>\n",
       "      <td>39.984688</td>\n",
       "      <td>116.318385</td>\n",
       "      <td>0</td>\n",
       "      <td>492.000000</td>\n",
       "      <td>2008-10-23 02:53:20</td>\n",
       "    </tr>\n",
       "    <tr>\n",
       "      <th>4</th>\n",
       "      <td>0</td>\n",
       "      <td>39.984655</td>\n",
       "      <td>116.318263</td>\n",
       "      <td>0</td>\n",
       "      <td>492.000000</td>\n",
       "      <td>2008-10-23 02:53:25</td>\n",
       "    </tr>\n",
       "    <tr>\n",
       "      <th>...</th>\n",
       "      <td>...</td>\n",
       "      <td>...</td>\n",
       "      <td>...</td>\n",
       "      <td>...</td>\n",
       "      <td>...</td>\n",
       "      <td>...</td>\n",
       "    </tr>\n",
       "    <tr>\n",
       "      <th>19994530</th>\n",
       "      <td>18668</td>\n",
       "      <td>39.988783</td>\n",
       "      <td>116.299000</td>\n",
       "      <td>0</td>\n",
       "      <td>114.829396</td>\n",
       "      <td>2008-02-17 10:43:09</td>\n",
       "    </tr>\n",
       "    <tr>\n",
       "      <th>19994531</th>\n",
       "      <td>18668</td>\n",
       "      <td>39.989500</td>\n",
       "      <td>116.298667</td>\n",
       "      <td>0</td>\n",
       "      <td>98.425197</td>\n",
       "      <td>2008-02-17 10:43:56</td>\n",
       "    </tr>\n",
       "    <tr>\n",
       "      <th>19994532</th>\n",
       "      <td>18668</td>\n",
       "      <td>39.990067</td>\n",
       "      <td>116.298350</td>\n",
       "      <td>0</td>\n",
       "      <td>131.233596</td>\n",
       "      <td>2008-02-17 10:44:26</td>\n",
       "    </tr>\n",
       "    <tr>\n",
       "      <th>19994533</th>\n",
       "      <td>18668</td>\n",
       "      <td>39.989517</td>\n",
       "      <td>116.298417</td>\n",
       "      <td>0</td>\n",
       "      <td>150.918635</td>\n",
       "      <td>2008-02-17 10:45:23</td>\n",
       "    </tr>\n",
       "    <tr>\n",
       "      <th>19994534</th>\n",
       "      <td>18668</td>\n",
       "      <td>39.989650</td>\n",
       "      <td>116.298117</td>\n",
       "      <td>0</td>\n",
       "      <td>170.603675</td>\n",
       "      <td>2008-02-17 10:45:35</td>\n",
       "    </tr>\n",
       "  </tbody>\n",
       "</table>\n",
       "<p>18165801 rows × 6 columns</p>\n",
       "</div>"
      ],
      "text/plain": [
       "          Person ID   Latitude   Longitude  0    Altitude            Timestamp\n",
       "0                 0  39.984702  116.318417  0  492.000000  2008-10-23 02:53:04\n",
       "1                 0  39.984683  116.318450  0  492.000000  2008-10-23 02:53:10\n",
       "2                 0  39.984686  116.318417  0  492.000000  2008-10-23 02:53:15\n",
       "3                 0  39.984688  116.318385  0  492.000000  2008-10-23 02:53:20\n",
       "4                 0  39.984655  116.318263  0  492.000000  2008-10-23 02:53:25\n",
       "...             ...        ...         ... ..         ...                  ...\n",
       "19994530      18668  39.988783  116.299000  0  114.829396  2008-02-17 10:43:09\n",
       "19994531      18668  39.989500  116.298667  0   98.425197  2008-02-17 10:43:56\n",
       "19994532      18668  39.990067  116.298350  0  131.233596  2008-02-17 10:44:26\n",
       "19994533      18668  39.989517  116.298417  0  150.918635  2008-02-17 10:45:23\n",
       "19994534      18668  39.989650  116.298117  0  170.603675  2008-02-17 10:45:35\n",
       "\n",
       "[18165801 rows x 6 columns]"
      ]
     },
     "execution_count": 5,
     "metadata": {},
     "output_type": "execute_result"
    }
   ],
   "source": [
    "data = data[data['Latitude'] >= 39.75]\n",
    "data = data[data['Latitude'] <= 40.1]\n",
    "data = data[data['Longitude'] >= 116.18]\n",
    "data = data[data['Longitude'] <= 116.6]\n",
    "\n",
    "data"
   ]
  },
  {
   "cell_type": "code",
   "execution_count": 6,
   "metadata": {},
   "outputs": [],
   "source": [
    "data['Coordinates'] = data.apply(lambda row: [row['Latitude'], row['Longitude']], axis=1)\n",
    "data = data.drop(['Latitude', 'Longitude'], axis=1)"
   ]
  },
  {
   "cell_type": "code",
   "execution_count": 9,
   "metadata": {},
   "outputs": [],
   "source": [
    "def calculate_distance(coord1, coord2):\n",
    "\treturn haversine(coord1, coord2)"
   ]
  },
  {
   "cell_type": "code",
   "execution_count": 10,
   "metadata": {},
   "outputs": [
    {
     "name": "stderr",
     "output_type": "stream",
     "text": [
      "main data: 0it [00:00, ?it/s]"
     ]
    },
    {
     "name": "stderr",
     "output_type": "stream",
     "text": [
      "main data: 7465931it [2:17:23, 905.62it/s]  \n"
     ]
    },
    {
     "ename": "KeyboardInterrupt",
     "evalue": "",
     "output_type": "error",
     "traceback": [
      "\u001b[1;31m---------------------------------------------------------------------------\u001b[0m",
      "\u001b[1;31mKeyboardInterrupt\u001b[0m                         Traceback (most recent call last)",
      "\u001b[1;32mc:\\Users\\danstorm\\Desktop\\DP\\GPS_analysis\\DP Projekt\\node_analyze.ipynb Cell 5\u001b[0m line \u001b[0;36m1\n\u001b[0;32m      <a href='vscode-notebook-cell:/c%3A/Users/danstorm/Desktop/DP/GPS_analysis/DP%20Projekt/node_analyze.ipynb#W4sZmlsZQ%3D%3D?line=8'>9</a>\u001b[0m \u001b[39mfor\u001b[39;00m other_taxi_id \u001b[39min\u001b[39;00m meeting_points[location]:\n\u001b[0;32m     <a href='vscode-notebook-cell:/c%3A/Users/danstorm/Desktop/DP/GPS_analysis/DP%20Projekt/node_analyze.ipynb#W4sZmlsZQ%3D%3D?line=9'>10</a>\u001b[0m \t\u001b[39mif\u001b[39;00m taxi_id \u001b[39m!=\u001b[39m other_taxi_id:\n\u001b[1;32m---> <a href='vscode-notebook-cell:/c%3A/Users/danstorm/Desktop/DP/GPS_analysis/DP%20Projekt/node_analyze.ipynb#W4sZmlsZQ%3D%3D?line=10'>11</a>\u001b[0m \t\tother_location \u001b[39m=\u001b[39m (data\u001b[39m.\u001b[39mloc[data[\u001b[39m\"\u001b[39m\u001b[39mPerson ID\u001b[39m\u001b[39m\"\u001b[39m] \u001b[39m==\u001b[39m other_taxi_id, \u001b[39m\"\u001b[39m\u001b[39mLatitude\u001b[39m\u001b[39m\"\u001b[39m]\u001b[39m.\u001b[39miloc[\u001b[39m0\u001b[39m], data\u001b[39m.\u001b[39mloc[data[\u001b[39m\"\u001b[39;49m\u001b[39mPerson ID\u001b[39;49m\u001b[39m\"\u001b[39;49m] \u001b[39m==\u001b[39;49m other_taxi_id, \u001b[39m\"\u001b[39m\u001b[39mLongitude\u001b[39m\u001b[39m\"\u001b[39m]\u001b[39m.\u001b[39miloc[\u001b[39m0\u001b[39m])\n\u001b[0;32m     <a href='vscode-notebook-cell:/c%3A/Users/danstorm/Desktop/DP/GPS_analysis/DP%20Projekt/node_analyze.ipynb#W4sZmlsZQ%3D%3D?line=12'>13</a>\u001b[0m \t\tdistance \u001b[39m=\u001b[39m calculate_distance(location, other_location)\n\u001b[0;32m     <a href='vscode-notebook-cell:/c%3A/Users/danstorm/Desktop/DP/GPS_analysis/DP%20Projekt/node_analyze.ipynb#W4sZmlsZQ%3D%3D?line=13'>14</a>\u001b[0m \t\t\u001b[39mif\u001b[39;00m distance \u001b[39m<\u001b[39m\u001b[39m=\u001b[39m meeting_distance_threshold:\n",
      "File \u001b[1;32mc:\\Users\\danstorm\\AppData\\Local\\Programs\\Python\\Python312\\Lib\\site-packages\\pandas\\core\\ops\\common.py:76\u001b[0m, in \u001b[0;36m_unpack_zerodim_and_defer.<locals>.new_method\u001b[1;34m(self, other)\u001b[0m\n\u001b[0;32m     72\u001b[0m             \u001b[39mreturn\u001b[39;00m \u001b[39mNotImplemented\u001b[39m\n\u001b[0;32m     74\u001b[0m other \u001b[39m=\u001b[39m item_from_zerodim(other)\n\u001b[1;32m---> 76\u001b[0m \u001b[39mreturn\u001b[39;00m method(\u001b[39mself\u001b[39;49m, other)\n",
      "File \u001b[1;32mc:\\Users\\danstorm\\AppData\\Local\\Programs\\Python\\Python312\\Lib\\site-packages\\pandas\\core\\arraylike.py:40\u001b[0m, in \u001b[0;36mOpsMixin.__eq__\u001b[1;34m(self, other)\u001b[0m\n\u001b[0;32m     38\u001b[0m \u001b[39m@unpack_zerodim_and_defer\u001b[39m(\u001b[39m\"\u001b[39m\u001b[39m__eq__\u001b[39m\u001b[39m\"\u001b[39m)\n\u001b[0;32m     39\u001b[0m \u001b[39mdef\u001b[39;00m \u001b[39m__eq__\u001b[39m(\u001b[39mself\u001b[39m, other):\n\u001b[1;32m---> 40\u001b[0m     \u001b[39mreturn\u001b[39;00m \u001b[39mself\u001b[39;49m\u001b[39m.\u001b[39;49m_cmp_method(other, operator\u001b[39m.\u001b[39;49meq)\n",
      "File \u001b[1;32mc:\\Users\\danstorm\\AppData\\Local\\Programs\\Python\\Python312\\Lib\\site-packages\\pandas\\core\\series.py:5799\u001b[0m, in \u001b[0;36mSeries._cmp_method\u001b[1;34m(self, other, op)\u001b[0m\n\u001b[0;32m   5796\u001b[0m lvalues \u001b[39m=\u001b[39m \u001b[39mself\u001b[39m\u001b[39m.\u001b[39m_values\n\u001b[0;32m   5797\u001b[0m rvalues \u001b[39m=\u001b[39m extract_array(other, extract_numpy\u001b[39m=\u001b[39m\u001b[39mTrue\u001b[39;00m, extract_range\u001b[39m=\u001b[39m\u001b[39mTrue\u001b[39;00m)\n\u001b[1;32m-> 5799\u001b[0m res_values \u001b[39m=\u001b[39m ops\u001b[39m.\u001b[39;49mcomparison_op(lvalues, rvalues, op)\n\u001b[0;32m   5801\u001b[0m \u001b[39mreturn\u001b[39;00m \u001b[39mself\u001b[39m\u001b[39m.\u001b[39m_construct_result(res_values, name\u001b[39m=\u001b[39mres_name)\n",
      "File \u001b[1;32mc:\\Users\\danstorm\\AppData\\Local\\Programs\\Python\\Python312\\Lib\\site-packages\\pandas\\core\\ops\\array_ops.py:349\u001b[0m, in \u001b[0;36mcomparison_op\u001b[1;34m(left, right, op)\u001b[0m\n\u001b[0;32m    346\u001b[0m     res_values \u001b[39m=\u001b[39m comp_method_OBJECT_ARRAY(op, lvalues, rvalues)\n\u001b[0;32m    348\u001b[0m \u001b[39melse\u001b[39;00m:\n\u001b[1;32m--> 349\u001b[0m     res_values \u001b[39m=\u001b[39m _na_arithmetic_op(lvalues, rvalues, op, is_cmp\u001b[39m=\u001b[39;49m\u001b[39mTrue\u001b[39;49;00m)\n\u001b[0;32m    351\u001b[0m \u001b[39mreturn\u001b[39;00m res_values\n",
      "File \u001b[1;32mc:\\Users\\danstorm\\AppData\\Local\\Programs\\Python\\Python312\\Lib\\site-packages\\pandas\\core\\ops\\array_ops.py:220\u001b[0m, in \u001b[0;36m_na_arithmetic_op\u001b[1;34m(left, right, op, is_cmp)\u001b[0m\n\u001b[0;32m    217\u001b[0m     func \u001b[39m=\u001b[39m partial(expressions\u001b[39m.\u001b[39mevaluate, op)\n\u001b[0;32m    219\u001b[0m \u001b[39mtry\u001b[39;00m:\n\u001b[1;32m--> 220\u001b[0m     result \u001b[39m=\u001b[39m func(left, right)\n\u001b[0;32m    221\u001b[0m \u001b[39mexcept\u001b[39;00m \u001b[39mTypeError\u001b[39;00m:\n\u001b[0;32m    222\u001b[0m     \u001b[39mif\u001b[39;00m \u001b[39mnot\u001b[39;00m is_cmp \u001b[39mand\u001b[39;00m (\n\u001b[0;32m    223\u001b[0m         left\u001b[39m.\u001b[39mdtype \u001b[39m==\u001b[39m \u001b[39mobject\u001b[39m \u001b[39mor\u001b[39;00m \u001b[39mgetattr\u001b[39m(right, \u001b[39m\"\u001b[39m\u001b[39mdtype\u001b[39m\u001b[39m\"\u001b[39m, \u001b[39mNone\u001b[39;00m) \u001b[39m==\u001b[39m \u001b[39mobject\u001b[39m\n\u001b[0;32m    224\u001b[0m     ):\n\u001b[1;32m   (...)\u001b[0m\n\u001b[0;32m    227\u001b[0m         \u001b[39m# Don't do this for comparisons, as that will handle complex numbers\u001b[39;00m\n\u001b[0;32m    228\u001b[0m         \u001b[39m#  incorrectly, see GH#32047\u001b[39;00m\n",
      "File \u001b[1;32mc:\\Users\\danstorm\\AppData\\Local\\Programs\\Python\\Python312\\Lib\\site-packages\\pandas\\core\\computation\\expressions.py:242\u001b[0m, in \u001b[0;36mevaluate\u001b[1;34m(op, a, b, use_numexpr)\u001b[0m\n\u001b[0;32m    239\u001b[0m \u001b[39mif\u001b[39;00m op_str \u001b[39mis\u001b[39;00m \u001b[39mnot\u001b[39;00m \u001b[39mNone\u001b[39;00m:\n\u001b[0;32m    240\u001b[0m     \u001b[39mif\u001b[39;00m use_numexpr:\n\u001b[0;32m    241\u001b[0m         \u001b[39m# error: \"None\" not callable\u001b[39;00m\n\u001b[1;32m--> 242\u001b[0m         \u001b[39mreturn\u001b[39;00m _evaluate(op, op_str, a, b)  \u001b[39m# type: ignore[misc]\u001b[39;00m\n\u001b[0;32m    243\u001b[0m \u001b[39mreturn\u001b[39;00m _evaluate_standard(op, op_str, a, b)\n",
      "File \u001b[1;32mc:\\Users\\danstorm\\AppData\\Local\\Programs\\Python\\Python312\\Lib\\site-packages\\pandas\\core\\computation\\expressions.py:73\u001b[0m, in \u001b[0;36m_evaluate_standard\u001b[1;34m(op, op_str, a, b)\u001b[0m\n\u001b[0;32m     71\u001b[0m \u001b[39mif\u001b[39;00m _TEST_MODE:\n\u001b[0;32m     72\u001b[0m     _store_test_result(\u001b[39mFalse\u001b[39;00m)\n\u001b[1;32m---> 73\u001b[0m \u001b[39mreturn\u001b[39;00m op(a, b)\n",
      "\u001b[1;31mKeyboardInterrupt\u001b[0m: "
     ]
    }
   ],
   "source": [
    "meeting_points = defaultdict(list)\n",
    "meeting_distance_threshold = 0.1\n",
    "meeting_info_list = []\n",
    "\n",
    "for index, row in tqdm(data.iterrows(), desc=\"main data\"):\n",
    "\ttaxi_id = row[\"Person ID\"]\n",
    "\tlocation = (row[\"Latitude\"], row[\"Longitude\"])\n",
    "\n",
    "\tif meeting_points[location]:\n",
    "\t\tfor other_taxi_id in meeting_points[location]:\n",
    "\t\t\tif taxi_id != other_taxi_id:\n",
    "\t\t\t\tother_location = (data.loc[data[\"Person ID\"] == other_taxi_id, \"Latitude\"].iloc[0], data.loc[data[\"Person ID\"] == other_taxi_id, \"Longitude\"].iloc[0])\n",
    "\n",
    "\t\t\t\tdistance = calculate_distance(location, other_location)\n",
    "\t\t\t\tif distance <= meeting_distance_threshold:\n",
    "\t\t\t\t\tmeeting_info = {\n",
    "\t\t\t\t\t\t\"Taxi1\": int(other_taxi_id),\n",
    "\t\t\t\t\t\t\"Taxi2\": int(taxi_id),\n",
    "\t\t\t\t\t\t\"Location\": {\n",
    "\t\t\t\t\t\t\t\"Latitude\": location[0],\n",
    "\t\t\t\t\t\t\t\"Longitude\": location[1]\n",
    "\t\t\t\t\t\t},\n",
    "\t\t\t\t\t\t\"Distance (meters)\": distance,\n",
    "\t\t\t\t\t\t\"Timestamp1\": row[\"Timestamp\"],\n",
    "\t\t\t\t\t\t\"Timestamp2\": data.loc[data[\"Person ID\"] == other_taxi_id, \"Timestamp\"].iloc[0]\n",
    "\t\t\t\t\t}\n",
    "\n",
    "\t\t\t\t\tmeeting_info_list.append(meeting_info)\n",
    "                      \n",
    "\tmeeting_points[location].extend([taxi_id])"
   ]
  },
  {
   "cell_type": "code",
   "execution_count": null,
   "metadata": {},
   "outputs": [],
   "source": [
    "with open('./files/edges/geolife.json', 'w') as json_file:\n",
    "    json.dump(meeting_info_list, json_file, indent=4)"
   ]
  }
 ],
 "metadata": {
  "kernelspec": {
   "display_name": "Python 3",
   "language": "python",
   "name": "python3"
  },
  "language_info": {
   "codemirror_mode": {
    "name": "ipython",
    "version": 3
   },
   "file_extension": ".py",
   "mimetype": "text/x-python",
   "name": "python",
   "nbconvert_exporter": "python",
   "pygments_lexer": "ipython3",
   "version": "3.12.0"
  }
 },
 "nbformat": 4,
 "nbformat_minor": 2
}
