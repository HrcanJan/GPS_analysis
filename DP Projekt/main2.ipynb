{
 "cells": [
  {
   "cell_type": "code",
   "execution_count": 43,
   "metadata": {},
   "outputs": [],
   "source": [
    "import pandas as pd\n",
    "import numpy as np\n",
    "import seaborn as sns\n",
    "import matplotlib.pyplot as plt\n",
    "from sklearn.cluster import KMeans\n",
    "from geopy.distance import great_circle"
   ]
  },
  {
   "cell_type": "markdown",
   "metadata": {},
   "source": [
    "Load data"
   ]
  },
  {
   "cell_type": "code",
   "execution_count": 44,
   "metadata": {},
   "outputs": [
    {
     "data": {
      "text/html": [
       "<div>\n",
       "<style scoped>\n",
       "    .dataframe tbody tr th:only-of-type {\n",
       "        vertical-align: middle;\n",
       "    }\n",
       "\n",
       "    .dataframe tbody tr th {\n",
       "        vertical-align: top;\n",
       "    }\n",
       "\n",
       "    .dataframe thead th {\n",
       "        text-align: right;\n",
       "    }\n",
       "</style>\n",
       "<table border=\"1\" class=\"dataframe\">\n",
       "  <thead>\n",
       "    <tr style=\"text-align: right;\">\n",
       "      <th></th>\n",
       "      <th>Taxi ID</th>\n",
       "      <th>Timestamp</th>\n",
       "      <th>Longitude</th>\n",
       "      <th>Latitude</th>\n",
       "    </tr>\n",
       "  </thead>\n",
       "  <tbody>\n",
       "    <tr>\n",
       "      <th>0</th>\n",
       "      <td>1</td>\n",
       "      <td>2008-02-02 15:36:08</td>\n",
       "      <td>116.51172</td>\n",
       "      <td>39.92123</td>\n",
       "    </tr>\n",
       "    <tr>\n",
       "      <th>1</th>\n",
       "      <td>1</td>\n",
       "      <td>2008-02-02 15:46:08</td>\n",
       "      <td>116.51135</td>\n",
       "      <td>39.93883</td>\n",
       "    </tr>\n",
       "    <tr>\n",
       "      <th>2</th>\n",
       "      <td>1</td>\n",
       "      <td>2008-02-02 15:46:08</td>\n",
       "      <td>116.51135</td>\n",
       "      <td>39.93883</td>\n",
       "    </tr>\n",
       "    <tr>\n",
       "      <th>3</th>\n",
       "      <td>1</td>\n",
       "      <td>2008-02-02 15:56:08</td>\n",
       "      <td>116.51627</td>\n",
       "      <td>39.91034</td>\n",
       "    </tr>\n",
       "    <tr>\n",
       "      <th>4</th>\n",
       "      <td>1</td>\n",
       "      <td>2008-02-02 16:06:08</td>\n",
       "      <td>116.47186</td>\n",
       "      <td>39.91248</td>\n",
       "    </tr>\n",
       "    <tr>\n",
       "      <th>...</th>\n",
       "      <td>...</td>\n",
       "      <td>...</td>\n",
       "      <td>...</td>\n",
       "      <td>...</td>\n",
       "    </tr>\n",
       "    <tr>\n",
       "      <th>17662979</th>\n",
       "      <td>9999</td>\n",
       "      <td>2008-02-08 17:11:13</td>\n",
       "      <td>116.27644</td>\n",
       "      <td>39.99720</td>\n",
       "    </tr>\n",
       "    <tr>\n",
       "      <th>17662980</th>\n",
       "      <td>9999</td>\n",
       "      <td>2008-02-08 17:16:15</td>\n",
       "      <td>116.28298</td>\n",
       "      <td>39.99740</td>\n",
       "    </tr>\n",
       "    <tr>\n",
       "      <th>17662981</th>\n",
       "      <td>9999</td>\n",
       "      <td>2008-02-08 17:21:17</td>\n",
       "      <td>116.28896</td>\n",
       "      <td>39.99235</td>\n",
       "    </tr>\n",
       "    <tr>\n",
       "      <th>17662982</th>\n",
       "      <td>9999</td>\n",
       "      <td>2008-02-08 17:26:19</td>\n",
       "      <td>116.28925</td>\n",
       "      <td>39.98273</td>\n",
       "    </tr>\n",
       "    <tr>\n",
       "      <th>17662983</th>\n",
       "      <td>9999</td>\n",
       "      <td>2008-02-08 17:36:23</td>\n",
       "      <td>116.26768</td>\n",
       "      <td>39.90663</td>\n",
       "    </tr>\n",
       "  </tbody>\n",
       "</table>\n",
       "<p>17662984 rows × 4 columns</p>\n",
       "</div>"
      ],
      "text/plain": [
       "          Taxi ID            Timestamp  Longitude  Latitude\n",
       "0               1  2008-02-02 15:36:08  116.51172  39.92123\n",
       "1               1  2008-02-02 15:46:08  116.51135  39.93883\n",
       "2               1  2008-02-02 15:46:08  116.51135  39.93883\n",
       "3               1  2008-02-02 15:56:08  116.51627  39.91034\n",
       "4               1  2008-02-02 16:06:08  116.47186  39.91248\n",
       "...           ...                  ...        ...       ...\n",
       "17662979     9999  2008-02-08 17:11:13  116.27644  39.99720\n",
       "17662980     9999  2008-02-08 17:16:15  116.28298  39.99740\n",
       "17662981     9999  2008-02-08 17:21:17  116.28896  39.99235\n",
       "17662982     9999  2008-02-08 17:26:19  116.28925  39.98273\n",
       "17662983     9999  2008-02-08 17:36:23  116.26768  39.90663\n",
       "\n",
       "[17662984 rows x 4 columns]"
      ]
     },
     "execution_count": 44,
     "metadata": {},
     "output_type": "execute_result"
    }
   ],
   "source": [
    "# Load data from the CSV file into a new DataFrame\n",
    "data = pd.read_csv('./model/gps_data2.csv')\n",
    "data"
   ]
  },
  {
   "cell_type": "markdown",
   "metadata": {},
   "source": [
    "Sort and convert timestamp into date data"
   ]
  },
  {
   "cell_type": "code",
   "execution_count": 53,
   "metadata": {},
   "outputs": [
    {
     "name": "stdout",
     "output_type": "stream",
     "text": [
      "          Taxi ID           Timestamp  Longitude  Latitude  TimeDifference\n",
      "0               1 2008-02-02 15:36:08  116.51172  39.92123             NaN\n",
      "1               1 2008-02-02 15:46:08  116.51135  39.93883            10.0\n",
      "2               1 2008-02-02 15:46:08  116.51135  39.93883             0.0\n",
      "3               1 2008-02-02 15:56:08  116.51627  39.91034            10.0\n",
      "4               1 2008-02-02 16:06:08  116.47186  39.91248            10.0\n",
      "...           ...                 ...        ...       ...             ...\n",
      "17662979     9999 2008-02-08 17:11:13  116.27644  39.99720             5.0\n",
      "17662980     9999 2008-02-08 17:16:15  116.28298  39.99740             5.0\n",
      "17662981     9999 2008-02-08 17:21:17  116.28896  39.99235             5.0\n",
      "17662982     9999 2008-02-08 17:26:19  116.28925  39.98273             5.0\n",
      "17662983     9999 2008-02-08 17:36:23  116.26768  39.90663            10.0\n",
      "\n",
      "[17662984 rows x 5 columns]\n"
     ]
    }
   ],
   "source": [
    "data['Timestamp'] = pd.to_datetime(data['Timestamp'])\n",
    "data['TimeDifference'] = round(data.groupby('Taxi ID')['Timestamp'].diff().dt.total_seconds() / 60)\n",
    "print(data)"
   ]
  },
  {
   "cell_type": "code",
   "execution_count": 72,
   "metadata": {},
   "outputs": [],
   "source": [
    "timeDiff = data['TimeDifference'].value_counts(normalize=True) * 100"
   ]
  },
  {
   "cell_type": "code",
   "execution_count": 74,
   "metadata": {},
   "outputs": [
    {
     "data": {
      "image/png": "[encoded data removed]",
      "text/plain": [
       "<Figure size 640x480 with 1 Axes>"
      ]
     },
     "metadata": {},
     "output_type": "display_data"
    }
   ],
   "source": [
    "x = timeDiff.index\n",
    "y = timeDiff.values\n",
    "\n",
    "# Create a bar chart\n",
    "plt.bar(x, y, color='red', alpha=0.7, width=0.5)\n",
    "plt.ylabel('Proportion in %')\n",
    "plt.xlabel('Difference between datapoints in minutes')\n",
    "plt.title('Time interval')\n",
    "plt.xlim(0, 12)\n",
    "plt.show()"
   ]
  },
  {
   "cell_type": "code",
   "execution_count": null,
   "metadata": {},
   "outputs": [],
   "source": []
  },
  {
   "cell_type": "markdown",
   "metadata": {},
   "source": [
    "Time interval"
   ]
  },
  {
   "cell_type": "code",
   "execution_count": null,
   "metadata": {},
   "outputs": [],
   "source": []
  },
  {
   "cell_type": "markdown",
   "metadata": {},
   "source": [
    "Distance interval"
   ]
  },
  {
   "cell_type": "code",
   "execution_count": null,
   "metadata": {},
   "outputs": [],
   "source": []
  },
  {
   "cell_type": "markdown",
   "metadata": {},
   "source": [
    "Data overview in Beijing"
   ]
  },
  {
   "cell_type": "code",
   "execution_count": null,
   "metadata": {},
   "outputs": [],
   "source": []
  }
 ],
 "metadata": {
  "kernelspec": {
   "display_name": "Python 3",
   "language": "python",
   "name": "python3"
  },
  "language_info": {
   "codemirror_mode": {
    "name": "ipython",
    "version": 3
   },
   "file_extension": ".py",
   "mimetype": "text/x-python",
   "name": "python",
   "nbconvert_exporter": "python",
   "pygments_lexer": "ipython3",
   "version": "3.12.0"
  }
 },
 "nbformat": 4,
 "nbformat_minor": 2
}
