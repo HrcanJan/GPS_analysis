{
 "cells": [
  {
   "cell_type": "markdown",
   "metadata": {},
   "source": [
    "Import data"
   ]
  },
  {
   "cell_type": "code",
   "execution_count": 4,
   "metadata": {},
   "outputs": [],
   "source": [
    "import os\n",
    "import pandas as pd\n",
    "\n",
    "# Path to data\n",
    "data_path = './data/Data/'"
   ]
  },
  {
   "cell_type": "markdown",
   "metadata": {},
   "source": [
    "Load data"
   ]
  },
  {
   "cell_type": "code",
   "execution_count": 5,
   "metadata": {},
   "outputs": [
    {
     "data": {
      "text/html": [
       "<div>\n",
       "<style scoped>\n",
       "    .dataframe tbody tr th:only-of-type {\n",
       "        vertical-align: middle;\n",
       "    }\n",
       "\n",
       "    .dataframe tbody tr th {\n",
       "        vertical-align: top;\n",
       "    }\n",
       "\n",
       "    .dataframe thead th {\n",
       "        text-align: right;\n",
       "    }\n",
       "</style>\n",
       "<table border=\"1\" class=\"dataframe\">\n",
       "  <thead>\n",
       "    <tr style=\"text-align: right;\">\n",
       "      <th></th>\n",
       "      <th>Start Time</th>\n",
       "      <th>End Time</th>\n",
       "      <th>Transportation Mode</th>\n",
       "    </tr>\n",
       "  </thead>\n",
       "  <tbody>\n",
       "    <tr>\n",
       "      <th>0</th>\n",
       "      <td>2007/06/26 11:32:29</td>\n",
       "      <td>2007/06/26 11:40:29</td>\n",
       "      <td>bus</td>\n",
       "    </tr>\n",
       "    <tr>\n",
       "      <th>1</th>\n",
       "      <td>2008/03/28 14:52:54</td>\n",
       "      <td>2008/03/28 15:59:59</td>\n",
       "      <td>train</td>\n",
       "    </tr>\n",
       "    <tr>\n",
       "      <th>2</th>\n",
       "      <td>2008/03/28 16:00:00</td>\n",
       "      <td>2008/03/28 22:02:00</td>\n",
       "      <td>train</td>\n",
       "    </tr>\n",
       "    <tr>\n",
       "      <th>3</th>\n",
       "      <td>2008/03/29 01:27:50</td>\n",
       "      <td>2008/03/29 15:59:59</td>\n",
       "      <td>train</td>\n",
       "    </tr>\n",
       "    <tr>\n",
       "      <th>4</th>\n",
       "      <td>2008/03/29 16:00:00</td>\n",
       "      <td>2008/03/30 15:59:59</td>\n",
       "      <td>train</td>\n",
       "    </tr>\n",
       "    <tr>\n",
       "      <th>...</th>\n",
       "      <td>...</td>\n",
       "      <td>...</td>\n",
       "      <td>...</td>\n",
       "    </tr>\n",
       "    <tr>\n",
       "      <th>14713</th>\n",
       "      <td>2008/11/17 06:59:58</td>\n",
       "      <td>2008/11/17 07:06:16</td>\n",
       "      <td>bus</td>\n",
       "    </tr>\n",
       "    <tr>\n",
       "      <th>14714</th>\n",
       "      <td>2008/11/17 07:06:16</td>\n",
       "      <td>2008/11/17 07:14:32</td>\n",
       "      <td>walk</td>\n",
       "    </tr>\n",
       "    <tr>\n",
       "      <th>14715</th>\n",
       "      <td>2008/11/29 01:58:05</td>\n",
       "      <td>2008/11/29 02:01:39</td>\n",
       "      <td>bus</td>\n",
       "    </tr>\n",
       "    <tr>\n",
       "      <th>14716</th>\n",
       "      <td>2008/11/29 02:01:39</td>\n",
       "      <td>2008/11/29 02:07:57</td>\n",
       "      <td>walk</td>\n",
       "    </tr>\n",
       "    <tr>\n",
       "      <th>14717</th>\n",
       "      <td>2008/11/29 02:07:57</td>\n",
       "      <td>2008/11/29 02:43:37</td>\n",
       "      <td>subway</td>\n",
       "    </tr>\n",
       "  </tbody>\n",
       "</table>\n",
       "<p>14718 rows × 3 columns</p>\n",
       "</div>"
      ],
      "text/plain": [
       "                Start Time             End Time Transportation Mode\n",
       "0      2007/06/26 11:32:29  2007/06/26 11:40:29                 bus\n",
       "1      2008/03/28 14:52:54  2008/03/28 15:59:59               train\n",
       "2      2008/03/28 16:00:00  2008/03/28 22:02:00               train\n",
       "3      2008/03/29 01:27:50  2008/03/29 15:59:59               train\n",
       "4      2008/03/29 16:00:00  2008/03/30 15:59:59               train\n",
       "...                    ...                  ...                 ...\n",
       "14713  2008/11/17 06:59:58  2008/11/17 07:06:16                 bus\n",
       "14714  2008/11/17 07:06:16  2008/11/17 07:14:32                walk\n",
       "14715  2008/11/29 01:58:05  2008/11/29 02:01:39                 bus\n",
       "14716  2008/11/29 02:01:39  2008/11/29 02:07:57                walk\n",
       "14717  2008/11/29 02:07:57  2008/11/29 02:43:37              subway\n",
       "\n",
       "[14718 rows x 3 columns]"
      ]
     },
     "execution_count": 5,
     "metadata": {},
     "output_type": "execute_result"
    }
   ],
   "source": [
    "# Create an empty list to store DataFrames\n",
    "dataframes = []\n",
    "\n",
    "# Traverse through user directories\n",
    "for user_folder in os.listdir(data_path):\n",
    "\tuser_folder_path = os.path.join(data_path, user_folder)\n",
    "\n",
    "\tlabels_file_path = os.path.join(user_folder_path, 'labels.txt')\n",
    "\t\t\t\t\t\n",
    "\t# Check if the labels file exists\n",
    "\tif os.path.exists(labels_file_path):\n",
    "\t\tlabels_df = pd.read_csv(labels_file_path, sep='\\t')\n",
    "\t\t\n",
    "\t\tdataframes.append(labels_df)\n",
    "\n",
    "labels_data = pd.concat(dataframes, ignore_index=True)\n",
    "labels_data"
   ]
  },
  {
   "cell_type": "markdown",
   "metadata": {},
   "source": [
    "Save data"
   ]
  },
  {
   "cell_type": "code",
   "execution_count": 6,
   "metadata": {},
   "outputs": [],
   "source": [
    "# Save DataFrame to a CSV file\n",
    "labels_data.to_csv('./model/labels_data.csv', index=False)"
   ]
  }
 ],
 "metadata": {
  "kernelspec": {
   "display_name": "Python 3",
   "language": "python",
   "name": "python3"
  },
  "language_info": {
   "codemirror_mode": {
    "name": "ipython",
    "version": 3
   },
   "file_extension": ".py",
   "mimetype": "text/x-python",
   "name": "python",
   "nbconvert_exporter": "python",
   "pygments_lexer": "ipython3",
   "version": "3.10.0"
  }
 },
 "nbformat": 4,
 "nbformat_minor": 2
}
