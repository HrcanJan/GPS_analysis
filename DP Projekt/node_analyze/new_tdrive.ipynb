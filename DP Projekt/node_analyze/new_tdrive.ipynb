{
 "cells": [
  {
   "cell_type": "code",
   "execution_count": 1,
   "metadata": {},
   "outputs": [],
   "source": [
    "import pandas as pd\n",
    "import geohash2 as gh\n",
    "from tqdm import tqdm\n",
    "import json\n",
    "from datetime import datetime"
   ]
  },
  {
   "cell_type": "code",
   "execution_count": 2,
   "metadata": {},
   "outputs": [],
   "source": [
    "data = pd.read_csv('../model/gps_data2.csv')\n",
    "\n",
    "def create_geohash(lat, lon):\n",
    "\treturn gh.encode(lat, lon, precision=7)"
   ]
  },
  {
   "cell_type": "code",
   "execution_count": 3,
   "metadata": {},
   "outputs": [],
   "source": [
    "data['Geohash'] = data.apply(lambda x: create_geohash(x['Latitude'], x['Longitude']), axis=1)"
   ]
  },
  {
   "cell_type": "code",
   "execution_count": 4,
   "metadata": {},
   "outputs": [],
   "source": [
    "grouped_data = data.groupby('Geohash').agg({\n",
    "\t'Taxi ID': lambda x: list(set(x)),\n",
    "\t'Timestamp': list,\n",
    "\t'Latitude': 'mean',\n",
    "\t'Longitude': 'mean'\n",
    "}).reset_index()"
   ]
  },
  {
   "cell_type": "code",
   "execution_count": 5,
   "metadata": {},
   "outputs": [
    {
     "data": {
      "text/html": [
       "<div>\n",
       "<style scoped>\n",
       "    .dataframe tbody tr th:only-of-type {\n",
       "        vertical-align: middle;\n",
       "    }\n",
       "\n",
       "    .dataframe tbody tr th {\n",
       "        vertical-align: top;\n",
       "    }\n",
       "\n",
       "    .dataframe thead th {\n",
       "        text-align: right;\n",
       "    }\n",
       "</style>\n",
       "<table border=\"1\" class=\"dataframe\">\n",
       "  <thead>\n",
       "    <tr style=\"text-align: right;\">\n",
       "      <th></th>\n",
       "      <th>Geohash</th>\n",
       "      <th>Taxi ID</th>\n",
       "      <th>Timestamp</th>\n",
       "      <th>Latitude</th>\n",
       "      <th>Longitude</th>\n",
       "    </tr>\n",
       "  </thead>\n",
       "  <tbody>\n",
       "    <tr>\n",
       "      <th>0</th>\n",
       "      <td>wx4d5u6</td>\n",
       "      <td>[7653]</td>\n",
       "      <td>[2008-02-05 07:39:15]</td>\n",
       "      <td>39.750450</td>\n",
       "      <td>116.184500</td>\n",
       "    </tr>\n",
       "    <tr>\n",
       "      <th>1</th>\n",
       "      <td>wx4d5vm</td>\n",
       "      <td>[4657]</td>\n",
       "      <td>[2008-02-07 13:14:21]</td>\n",
       "      <td>39.756230</td>\n",
       "      <td>116.187550</td>\n",
       "    </tr>\n",
       "    <tr>\n",
       "      <th>2</th>\n",
       "      <td>wx4d5wz</td>\n",
       "      <td>[9921, 5442, 9109]</td>\n",
       "      <td>[2008-02-06 19:53:52, 2008-02-03 08:19:30, 200...</td>\n",
       "      <td>39.764067</td>\n",
       "      <td>116.180303</td>\n",
       "    </tr>\n",
       "    <tr>\n",
       "      <th>3</th>\n",
       "      <td>wx4d5xz</td>\n",
       "      <td>[10282, 4476, 861]</td>\n",
       "      <td>[2008-02-05 13:45:33, 2008-02-06 00:04:20, 200...</td>\n",
       "      <td>39.769920</td>\n",
       "      <td>116.180210</td>\n",
       "    </tr>\n",
       "    <tr>\n",
       "      <th>4</th>\n",
       "      <td>wx4d5y8</td>\n",
       "      <td>[224, 10177, 9030, 8170, 9259, 2162, 6548, 373...</td>\n",
       "      <td>[2008-02-02 16:44:57, 2008-02-04 07:10:42, 200...</td>\n",
       "      <td>39.763283</td>\n",
       "      <td>116.181595</td>\n",
       "    </tr>\n",
       "    <tr>\n",
       "      <th>...</th>\n",
       "      <td>...</td>\n",
       "      <td>...</td>\n",
       "      <td>...</td>\n",
       "      <td>...</td>\n",
       "      <td>...</td>\n",
       "    </tr>\n",
       "    <tr>\n",
       "      <th>53872</th>\n",
       "      <td>wx4uj58</td>\n",
       "      <td>[8634]</td>\n",
       "      <td>[2008-02-08 08:53:01]</td>\n",
       "      <td>40.097570</td>\n",
       "      <td>116.587370</td>\n",
       "    </tr>\n",
       "    <tr>\n",
       "      <th>53873</th>\n",
       "      <td>wx4uj5p</td>\n",
       "      <td>[8833]</td>\n",
       "      <td>[2008-02-04 03:03:09, 2008-02-04 03:03:09]</td>\n",
       "      <td>40.094930</td>\n",
       "      <td>116.597580</td>\n",
       "    </tr>\n",
       "    <tr>\n",
       "      <th>53874</th>\n",
       "      <td>wx4uj5x</td>\n",
       "      <td>[133]</td>\n",
       "      <td>[2008-02-08 17:04:45, 2008-02-08 17:04:45]</td>\n",
       "      <td>40.097640</td>\n",
       "      <td>116.597500</td>\n",
       "    </tr>\n",
       "    <tr>\n",
       "      <th>53875</th>\n",
       "      <td>wx4uj61</td>\n",
       "      <td>[3772, 2446]</td>\n",
       "      <td>[2008-02-02 14:10:44, 2008-02-03 14:21:07]</td>\n",
       "      <td>40.089810</td>\n",
       "      <td>116.599500</td>\n",
       "    </tr>\n",
       "    <tr>\n",
       "      <th>53876</th>\n",
       "      <td>wx4uj6c</td>\n",
       "      <td>[4450]</td>\n",
       "      <td>[2008-02-08 03:40:30]</td>\n",
       "      <td>40.093570</td>\n",
       "      <td>116.599930</td>\n",
       "    </tr>\n",
       "  </tbody>\n",
       "</table>\n",
       "<p>53877 rows × 5 columns</p>\n",
       "</div>"
      ],
      "text/plain": [
       "       Geohash                                            Taxi ID  \\\n",
       "0      wx4d5u6                                             [7653]   \n",
       "1      wx4d5vm                                             [4657]   \n",
       "2      wx4d5wz                                 [9921, 5442, 9109]   \n",
       "3      wx4d5xz                                 [10282, 4476, 861]   \n",
       "4      wx4d5y8  [224, 10177, 9030, 8170, 9259, 2162, 6548, 373...   \n",
       "...        ...                                                ...   \n",
       "53872  wx4uj58                                             [8634]   \n",
       "53873  wx4uj5p                                             [8833]   \n",
       "53874  wx4uj5x                                              [133]   \n",
       "53875  wx4uj61                                       [3772, 2446]   \n",
       "53876  wx4uj6c                                             [4450]   \n",
       "\n",
       "                                               Timestamp   Latitude  \\\n",
       "0                                  [2008-02-05 07:39:15]  39.750450   \n",
       "1                                  [2008-02-07 13:14:21]  39.756230   \n",
       "2      [2008-02-06 19:53:52, 2008-02-03 08:19:30, 200...  39.764067   \n",
       "3      [2008-02-05 13:45:33, 2008-02-06 00:04:20, 200...  39.769920   \n",
       "4      [2008-02-02 16:44:57, 2008-02-04 07:10:42, 200...  39.763283   \n",
       "...                                                  ...        ...   \n",
       "53872                              [2008-02-08 08:53:01]  40.097570   \n",
       "53873         [2008-02-04 03:03:09, 2008-02-04 03:03:09]  40.094930   \n",
       "53874         [2008-02-08 17:04:45, 2008-02-08 17:04:45]  40.097640   \n",
       "53875         [2008-02-02 14:10:44, 2008-02-03 14:21:07]  40.089810   \n",
       "53876                              [2008-02-08 03:40:30]  40.093570   \n",
       "\n",
       "        Longitude  \n",
       "0      116.184500  \n",
       "1      116.187550  \n",
       "2      116.180303  \n",
       "3      116.180210  \n",
       "4      116.181595  \n",
       "...           ...  \n",
       "53872  116.587370  \n",
       "53873  116.597580  \n",
       "53874  116.597500  \n",
       "53875  116.599500  \n",
       "53876  116.599930  \n",
       "\n",
       "[53877 rows x 5 columns]"
      ]
     },
     "execution_count": 5,
     "metadata": {},
     "output_type": "execute_result"
    }
   ],
   "source": [
    "grouped_data"
   ]
  },
  {
   "cell_type": "code",
   "execution_count": 6,
   "metadata": {},
   "outputs": [
    {
     "name": "stderr",
     "output_type": "stream",
     "text": [
      "0it [00:00, ?it/s]"
     ]
    },
    {
     "name": "stderr",
     "output_type": "stream",
     "text": [
      "7774it [05:32, 11.67it/s] "
     ]
    }
   ],
   "source": [
    "location_pairs = []\n",
    "\n",
    "for _, row in tqdm(grouped_data.iterrows()):\n",
    "\tgeohash = row['Geohash']\n",
    "\tperson_ids = row['Taxi ID']\n",
    "\ttimestamps = row['Timestamp']\n",
    "\tlatitude = row['Latitude']\n",
    "\tlongitude = row['Longitude']\n",
    "\t\n",
    "\tfor i in range(len(person_ids)):\n",
    "\t\tfor j in range(i + 1, len(person_ids)):\n",
    "\t\t\tpair = {\n",
    "\t\t\t\t'Geohash': geohash,\n",
    "\t\t\t\t'Person ID 1': person_ids[i],\n",
    "\t\t\t\t'Person ID 2': person_ids[j],\n",
    "\t\t\t\t'Timestamps': {\n",
    "\t\t\t\t\tperson_ids[i]: timestamps[i],\n",
    "\t\t\t\t\tperson_ids[j]: timestamps[j]\n",
    "\t\t\t\t},\n",
    "\t\t\t\t'Latitude': latitude,\n",
    "\t\t\t\t'Longitude': longitude\n",
    "\t\t\t}\n",
    "\t\t\tlocation_pairs.append(pair)"
   ]
  },
  {
   "cell_type": "code",
   "execution_count": null,
   "metadata": {},
   "outputs": [],
   "source": [
    "with open('../files/edges/new_tdrive.json', 'w') as json_file:\n",
    "\tjson.dump(location_pairs, json_file, indent=4)"
   ]
  }
 ],
 "metadata": {
  "kernelspec": {
   "display_name": "Python 3",
   "language": "python",
   "name": "python3"
  },
  "language_info": {
   "codemirror_mode": {
    "name": "ipython",
    "version": 3
   },
   "file_extension": ".py",
   "mimetype": "text/x-python",
   "name": "python",
   "nbconvert_exporter": "python",
   "pygments_lexer": "ipython3",
   "version": "3.12.0"
  }
 },
 "nbformat": 4,
 "nbformat_minor": 2
}
