{
 "cells": [
  {
   "cell_type": "code",
   "execution_count": 28,
   "metadata": {},
   "outputs": [],
   "source": [
    "import pandas as pd\n",
    "import geohash2 as gh\n",
    "from tqdm import tqdm\n",
    "import json\n",
    "from datetime import datetime"
   ]
  },
  {
   "cell_type": "code",
   "execution_count": 29,
   "metadata": {},
   "outputs": [],
   "source": [
    "data = pd.read_csv('../model/gps_data2.csv')\n",
    "\n",
    "def create_geohash(lat, lon):\n",
    "\treturn gh.encode(lat, lon, precision=10)"
   ]
  },
  {
   "cell_type": "code",
   "execution_count": 30,
   "metadata": {},
   "outputs": [],
   "source": [
    "data['Geohash'] = data.apply(lambda x: create_geohash(x['Latitude'], x['Longitude']), axis=1)"
   ]
  },
  {
   "cell_type": "code",
   "execution_count": 31,
   "metadata": {},
   "outputs": [],
   "source": [
    "grouped_data = data.groupby('Geohash').agg({\n",
    "\t'Taxi ID': lambda x: list(set(x)),\n",
    "\t'Timestamp': list,\n",
    "\t'Latitude': 'mean',\n",
    "\t'Longitude': 'mean'\n",
    "}).reset_index()"
   ]
  },
  {
   "cell_type": "code",
   "execution_count": 36,
   "metadata": {},
   "outputs": [
    {
     "name": "stderr",
     "output_type": "stream",
     "text": [
      "9418534it [05:50, 26880.25it/s]\n"
     ]
    }
   ],
   "source": [
    "location_pairs = []\n",
    "\n",
    "for _, row in tqdm(grouped_data.iterrows()):\n",
    "\tgeohash = row['Geohash']\n",
    "\tperson_ids = row['Taxi ID']\n",
    "\ttimestamps = row['Timestamp']\n",
    "\tlatitude = row['Latitude']\n",
    "\tlongitude = row['Longitude']\n",
    "\t\n",
    "\tfor i in range(len(person_ids)):\n",
    "\t\tfor j in range(i + 1, len(person_ids)):\n",
    "\t\t\tpair = {\n",
    "\t\t\t\t'Geohash': geohash,\n",
    "\t\t\t\t'Person ID 1': person_ids[i],\n",
    "\t\t\t\t'Person ID 2': person_ids[j],\n",
    "\t\t\t\t'Timestamps': {\n",
    "\t\t\t\t\tperson_ids[i]: timestamps[i],\n",
    "\t\t\t\t\tperson_ids[j]: timestamps[j]\n",
    "\t\t\t\t},\n",
    "\t\t\t\t'Latitude': latitude,\n",
    "\t\t\t\t'Longitude': longitude\n",
    "\t\t\t}\n",
    "\t\t\tlocation_pairs.append(pair)"
   ]
  },
  {
   "cell_type": "code",
   "execution_count": 37,
   "metadata": {},
   "outputs": [],
   "source": [
    "with open('../files/edges/new_tdrive.json', 'w') as json_file:\n",
    "\tjson.dump(location_pairs, json_file, indent=4)"
   ]
  }
 ],
 "metadata": {
  "kernelspec": {
   "display_name": "Python 3",
   "language": "python",
   "name": "python3"
  },
  "language_info": {
   "codemirror_mode": {
    "name": "ipython",
    "version": 3
   },
   "file_extension": ".py",
   "mimetype": "text/x-python",
   "name": "python",
   "nbconvert_exporter": "python",
   "pygments_lexer": "ipython3",
   "version": "3.12.0"
  }
 },
 "nbformat": 4,
 "nbformat_minor": 2
}
