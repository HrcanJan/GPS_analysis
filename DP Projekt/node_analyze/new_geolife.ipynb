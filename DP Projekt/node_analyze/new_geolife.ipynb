{
 "cells": [
  {
   "cell_type": "code",
   "execution_count": 1,
   "metadata": {},
   "outputs": [],
   "source": [
    "import pandas as pd\n",
    "import geohash2 as gh\n",
    "from tqdm import tqdm\n",
    "import json\n",
    "from datetime import datetime"
   ]
  },
  {
   "cell_type": "code",
   "execution_count": 2,
   "metadata": {},
   "outputs": [],
   "source": [
    "data = pd.read_csv('../model/gps_data.csv')\n",
    "\n",
    "def create_geohash(lat, lon):\n",
    "\treturn gh.encode(lat, lon)"
   ]
  },
  {
   "cell_type": "code",
   "execution_count": 3,
   "metadata": {},
   "outputs": [],
   "source": [
    "data['Geohash'] = data.apply(lambda x: create_geohash(x['Latitude'], x['Longitude']), axis=1)"
   ]
  },
  {
   "cell_type": "code",
   "execution_count": 14,
   "metadata": {},
   "outputs": [],
   "source": [
    "grouped_data = data.groupby('Geohash').agg({\n",
    "\t'Person ID': lambda x: list(set(x)),\n",
    "\t'Timestamp': list,\n",
    "\t'Latitude': 'mean',\n",
    "\t'Longitude': 'mean'\n",
    "}).reset_index()"
   ]
  },
  {
   "cell_type": "code",
   "execution_count": 15,
   "metadata": {},
   "outputs": [
    {
     "data": {
      "text/html": [
       "<div>\n",
       "<style scoped>\n",
       "    .dataframe tbody tr th:only-of-type {\n",
       "        vertical-align: middle;\n",
       "    }\n",
       "\n",
       "    .dataframe tbody tr th {\n",
       "        vertical-align: top;\n",
       "    }\n",
       "\n",
       "    .dataframe thead th {\n",
       "        text-align: right;\n",
       "    }\n",
       "</style>\n",
       "<table border=\"1\" class=\"dataframe\">\n",
       "  <thead>\n",
       "    <tr style=\"text-align: right;\">\n",
       "      <th></th>\n",
       "      <th>Geohash</th>\n",
       "      <th>Person ID</th>\n",
       "      <th>Timestamp</th>\n",
       "      <th>Latitude</th>\n",
       "      <th>Longitude</th>\n",
       "    </tr>\n",
       "  </thead>\n",
       "  <tbody>\n",
       "    <tr>\n",
       "      <th>0</th>\n",
       "      <td>wx4d5wzfphbt</td>\n",
       "      <td>[24]</td>\n",
       "      <td>[2009-01-12 01:25:12]</td>\n",
       "      <td>39.764011</td>\n",
       "      <td>116.180378</td>\n",
       "    </tr>\n",
       "    <tr>\n",
       "      <th>1</th>\n",
       "      <td>wx4d5y8z3u65</td>\n",
       "      <td>[39]</td>\n",
       "      <td>[2009-05-11 00:36:27]</td>\n",
       "      <td>39.763536</td>\n",
       "      <td>116.181528</td>\n",
       "    </tr>\n",
       "    <tr>\n",
       "      <th>2</th>\n",
       "      <td>wx4d5y9mxrgz</td>\n",
       "      <td>[39]</td>\n",
       "      <td>[2009-05-11 00:36:32]</td>\n",
       "      <td>39.763255</td>\n",
       "      <td>116.182453</td>\n",
       "    </tr>\n",
       "    <tr>\n",
       "      <th>3</th>\n",
       "      <td>wx4d5y9q3g9p</td>\n",
       "      <td>[24]</td>\n",
       "      <td>[2009-01-12 01:25:22]</td>\n",
       "      <td>39.763361</td>\n",
       "      <td>116.182213</td>\n",
       "    </tr>\n",
       "    <tr>\n",
       "      <th>4</th>\n",
       "      <td>wx4d5yb1hxk2</td>\n",
       "      <td>[39]</td>\n",
       "      <td>[2009-05-11 00:36:22]</td>\n",
       "      <td>39.763852</td>\n",
       "      <td>116.180619</td>\n",
       "    </tr>\n",
       "    <tr>\n",
       "      <th>...</th>\n",
       "      <td>...</td>\n",
       "      <td>...</td>\n",
       "      <td>...</td>\n",
       "      <td>...</td>\n",
       "      <td>...</td>\n",
       "    </tr>\n",
       "    <tr>\n",
       "      <th>16139033</th>\n",
       "      <td>wx4uj5s8k7d1</td>\n",
       "      <td>[163]</td>\n",
       "      <td>[2009-02-21 04:16:35]</td>\n",
       "      <td>40.097413</td>\n",
       "      <td>116.593279</td>\n",
       "    </tr>\n",
       "    <tr>\n",
       "      <th>16139034</th>\n",
       "      <td>wx4uj5sx1h1t</td>\n",
       "      <td>[82]</td>\n",
       "      <td>[2008-08-01 08:43:00]</td>\n",
       "      <td>40.098575</td>\n",
       "      <td>116.593139</td>\n",
       "    </tr>\n",
       "    <tr>\n",
       "      <th>16139035</th>\n",
       "      <td>wx4uj5t41491</td>\n",
       "      <td>[10]</td>\n",
       "      <td>[2007-12-28 09:06:12]</td>\n",
       "      <td>40.097708</td>\n",
       "      <td>116.593825</td>\n",
       "    </tr>\n",
       "    <tr>\n",
       "      <th>16139036</th>\n",
       "      <td>wx4uj5thgkku</td>\n",
       "      <td>[144]</td>\n",
       "      <td>[2008-12-16 01:40:29]</td>\n",
       "      <td>40.098190</td>\n",
       "      <td>116.593927</td>\n",
       "    </tr>\n",
       "    <tr>\n",
       "      <th>16139037</th>\n",
       "      <td>wx4uj5u9rjmv</td>\n",
       "      <td>[10]</td>\n",
       "      <td>[2007-12-28 09:06:14]</td>\n",
       "      <td>40.098968</td>\n",
       "      <td>116.593402</td>\n",
       "    </tr>\n",
       "  </tbody>\n",
       "</table>\n",
       "<p>16139038 rows × 5 columns</p>\n",
       "</div>"
      ],
      "text/plain": [
       "               Geohash Person ID              Timestamp   Latitude   Longitude\n",
       "0         wx4d5wzfphbt      [24]  [2009-01-12 01:25:12]  39.764011  116.180378\n",
       "1         wx4d5y8z3u65      [39]  [2009-05-11 00:36:27]  39.763536  116.181528\n",
       "2         wx4d5y9mxrgz      [39]  [2009-05-11 00:36:32]  39.763255  116.182453\n",
       "3         wx4d5y9q3g9p      [24]  [2009-01-12 01:25:22]  39.763361  116.182213\n",
       "4         wx4d5yb1hxk2      [39]  [2009-05-11 00:36:22]  39.763852  116.180619\n",
       "...                ...       ...                    ...        ...         ...\n",
       "16139033  wx4uj5s8k7d1     [163]  [2009-02-21 04:16:35]  40.097413  116.593279\n",
       "16139034  wx4uj5sx1h1t      [82]  [2008-08-01 08:43:00]  40.098575  116.593139\n",
       "16139035  wx4uj5t41491      [10]  [2007-12-28 09:06:12]  40.097708  116.593825\n",
       "16139036  wx4uj5thgkku     [144]  [2008-12-16 01:40:29]  40.098190  116.593927\n",
       "16139037  wx4uj5u9rjmv      [10]  [2007-12-28 09:06:14]  40.098968  116.593402\n",
       "\n",
       "[16139038 rows x 5 columns]"
      ]
     },
     "execution_count": 15,
     "metadata": {},
     "output_type": "execute_result"
    }
   ],
   "source": [
    "grouped_data"
   ]
  },
  {
   "cell_type": "code",
   "execution_count": 17,
   "metadata": {},
   "outputs": [
    {
     "name": "stderr",
     "output_type": "stream",
     "text": [
      "16139038it [10:01, 26842.61it/s]\n"
     ]
    }
   ],
   "source": [
    "location_pairs = []\n",
    "\n",
    "for _, row in tqdm(grouped_data.iterrows()):\n",
    "\tgeohash = row['Geohash']\n",
    "\tperson_ids = row['Person ID']\n",
    "\ttimestamps = row['Timestamp']\n",
    "\tlatitude = row['Latitude']\n",
    "\tlongitude = row['Longitude']\n",
    "\t\n",
    "\t# Create pairs of different people at the same location with their timestamps\n",
    "\tfor i in range(len(person_ids)):\n",
    "\t\tfor j in range(i + 1, len(person_ids)):\n",
    "\t\t\tpair = {\n",
    "\t\t\t\t'Geohash': geohash,\n",
    "\t\t\t\t'Person ID 1': person_ids[i],\n",
    "\t\t\t\t'Person ID 2': person_ids[j],\n",
    "\t\t\t\t'Timestamps': {\n",
    "\t\t\t\t\tperson_ids[i]: timestamps[i],\n",
    "\t\t\t\t\tperson_ids[j]: timestamps[j]\n",
    "\t\t\t\t},\n",
    "\t\t\t\t'Latitude': latitude,\n",
    "\t\t\t\t'Longitude': longitude\n",
    "\t\t\t}\n",
    "\t\t\tlocation_pairs.append(pair)"
   ]
  },
  {
   "cell_type": "code",
   "execution_count": 19,
   "metadata": {},
   "outputs": [],
   "source": [
    "with open('../files/edges/new_geolife.json', 'w') as json_file:\n",
    "\tjson.dump(location_pairs, json_file, indent=4)"
   ]
  }
 ],
 "metadata": {
  "kernelspec": {
   "display_name": "Python 3",
   "language": "python",
   "name": "python3"
  },
  "language_info": {
   "codemirror_mode": {
    "name": "ipython",
    "version": 3
   },
   "file_extension": ".py",
   "mimetype": "text/x-python",
   "name": "python",
   "nbconvert_exporter": "python",
   "pygments_lexer": "ipython3",
   "version": "3.12.0"
  }
 },
 "nbformat": 4,
 "nbformat_minor": 2
}
