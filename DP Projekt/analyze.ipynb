{
 "cells": [
  {
   "cell_type": "markdown",
   "metadata": {},
   "source": [
    "Import"
   ]
  },
  {
   "cell_type": "code",
   "execution_count": 5,
   "metadata": {},
   "outputs": [],
   "source": [
    "import pandas as pd"
   ]
  },
  {
   "cell_type": "markdown",
   "metadata": {},
   "source": [
    "Load"
   ]
  },
  {
   "cell_type": "code",
   "execution_count": 6,
   "metadata": {},
   "outputs": [],
   "source": [
    "data1 = pd.read_csv(\"./files/geolife.csv\")\n",
    "data2 = pd.read_csv(\"./files/geolife_time_1min.csv\")\n",
    "data3 = pd.read_csv(\"./files/geolife_time_30min.csv\")\n",
    "data4 = pd.read_csv(\"./files/geolife_time_1day.csv\")\n",
    "\n",
    "data1_nodes = pd.read_csv(\"./files/nodes_geolife.csv\")\n",
    "data2_nodes = pd.read_csv(\"./files/nodes_geolife_time_1min.csv\")\n",
    "data3_nodes = pd.read_csv(\"./files/nodes_geolife_time_30min.csv\")\n",
    "data4_nodes = pd.read_csv(\"./files/nodes_geolife_time_1day.csv\")\n",
    "\n",
    "data5 = pd.read_csv(\"./files/tdrive.csv\")\n",
    "data6 = pd.read_csv(\"./files/tdrive_time_1min.csv\")\n",
    "data7 = pd.read_csv(\"./files/tdrive_time_30min.csv\")\n",
    "data8 = pd.read_csv(\"./files/tdrive_time_1day.csv\")\n",
    "\n",
    "data5_nodes = pd.read_csv(\"./files/nodes_tdrive.csv\")\n",
    "data6_nodes = pd.read_csv(\"./files/nodes_tdrive_time_1min.csv\")\n",
    "data7_nodes = pd.read_csv(\"./files/nodes_tdrive_time_30min.csv\")\n",
    "data8_nodes = pd.read_csv(\"./files/nodes_tdrive_time_1day.csv\")"
   ]
  },
  {
   "cell_type": "markdown",
   "metadata": {},
   "source": [
    "Function"
   ]
  },
  {
   "cell_type": "code",
   "execution_count": 7,
   "metadata": {},
   "outputs": [],
   "source": [
    "def analyze(edges_df, nodes_df):\n",
    "\tnum_edges = len(edges_df)\n",
    "\tnum_nodes = len(nodes_df)\n",
    "\tall_nodes_in_edges = set(edges_df[\"Taxi1\"].tolist() + edges_df[\"Taxi2\"].tolist())\n",
    "\tmax_edges_node = edges_df.groupby(\"Taxi1\").size().idxmax()\n",
    "\tmax_edges_value = edges_df.groupby(\"Taxi1\").size().max()\n",
    "\tmin_edges_node = edges_df.groupby(\"Taxi1\").size().idxmin()\n",
    "\tmin_edges_value = edges_df.groupby(\"Taxi1\").size().min()\n",
    "\tavg_edges_per_node = num_edges / num_nodes\n",
    "\n",
    "\t# Display the results\n",
    "\tprint(f\"Number of edges: {num_edges}\")\n",
    "\tprint(f\"Number of nodes: {num_nodes}\")\n",
    "\tprint(f\"Max number of edges from a node: Node {max_edges_node} with {max_edges_value} edges\")\n",
    "\tprint(f\"Min number of edges from a node: Node {min_edges_node} with {min_edges_value} edges\")\n",
    "\tprint(f\"Average number of edges per node: {avg_edges_per_node:.2f}\")"
   ]
  },
  {
   "cell_type": "markdown",
   "metadata": {},
   "source": [
    "Analyze"
   ]
  },
  {
   "cell_type": "code",
   "execution_count": 8,
   "metadata": {},
   "outputs": [
    {
     "name": "stdout",
     "output_type": "stream",
     "text": [
      "Number of edges: 3724\n",
      "Number of nodes: 2050\n",
      "Max number of edges from a node: Node 1195 with 62 edges\n",
      "Min number of edges from a node: Node 4 with 1 edges\n",
      "Average number of edges per node: 1.82\n"
     ]
    }
   ],
   "source": [
    "analyze(data1, data1_nodes)"
   ]
  },
  {
   "cell_type": "code",
   "execution_count": 9,
   "metadata": {},
   "outputs": [
    {
     "name": "stdout",
     "output_type": "stream",
     "text": [
      "Number of edges: 134\n",
      "Number of nodes: 268\n",
      "Max number of edges from a node: Node 42 with 1 edges\n",
      "Min number of edges from a node: Node 42 with 1 edges\n",
      "Average number of edges per node: 0.50\n"
     ]
    }
   ],
   "source": [
    "analyze(data2, data2_nodes)"
   ]
  },
  {
   "cell_type": "code",
   "execution_count": 10,
   "metadata": {},
   "outputs": [
    {
     "name": "stdout",
     "output_type": "stream",
     "text": [
      "Number of edges: 134\n",
      "Number of nodes: 268\n",
      "Max number of edges from a node: Node 42 with 1 edges\n",
      "Min number of edges from a node: Node 42 with 1 edges\n",
      "Average number of edges per node: 0.50\n"
     ]
    }
   ],
   "source": [
    "analyze(data3, data3_nodes)"
   ]
  },
  {
   "cell_type": "code",
   "execution_count": 11,
   "metadata": {},
   "outputs": [
    {
     "name": "stdout",
     "output_type": "stream",
     "text": [
      "Number of edges: 185\n",
      "Number of nodes: 348\n",
      "Max number of edges from a node: Node 120 with 3 edges\n",
      "Min number of edges from a node: Node 42 with 1 edges\n",
      "Average number of edges per node: 0.53\n"
     ]
    }
   ],
   "source": [
    "analyze(data4, data4_nodes)"
   ]
  },
  {
   "cell_type": "code",
   "execution_count": 12,
   "metadata": {},
   "outputs": [
    {
     "name": "stdout",
     "output_type": "stream",
     "text": [
      "Number of edges: 406\n",
      "Number of nodes: 497\n",
      "Max number of edges from a node: Node 1072 with 12 edges\n",
      "Min number of edges from a node: Node 10 with 1 edges\n",
      "Average number of edges per node: 0.82\n"
     ]
    }
   ],
   "source": [
    "analyze(data5, data5_nodes)"
   ]
  },
  {
   "cell_type": "code",
   "execution_count": 13,
   "metadata": {},
   "outputs": [
    {
     "name": "stdout",
     "output_type": "stream",
     "text": [
      "Number of edges: 1\n",
      "Number of nodes: 2\n",
      "Max number of edges from a node: Node 2033 with 1 edges\n",
      "Min number of edges from a node: Node 2033 with 1 edges\n",
      "Average number of edges per node: 0.50\n"
     ]
    }
   ],
   "source": [
    "analyze(data6, data6_nodes)"
   ]
  },
  {
   "cell_type": "code",
   "execution_count": 14,
   "metadata": {},
   "outputs": [
    {
     "name": "stdout",
     "output_type": "stream",
     "text": [
      "Number of edges: 6\n",
      "Number of nodes: 12\n",
      "Max number of edges from a node: Node 28 with 1 edges\n",
      "Min number of edges from a node: Node 28 with 1 edges\n",
      "Average number of edges per node: 0.50\n"
     ]
    }
   ],
   "source": [
    "analyze(data7, data7_nodes)"
   ]
  },
  {
   "cell_type": "code",
   "execution_count": 15,
   "metadata": {},
   "outputs": [
    {
     "name": "stdout",
     "output_type": "stream",
     "text": [
      "Number of edges: 103\n",
      "Number of nodes: 162\n",
      "Max number of edges from a node: Node 1072 with 5 edges\n",
      "Min number of edges from a node: Node 16 with 1 edges\n",
      "Average number of edges per node: 0.64\n"
     ]
    }
   ],
   "source": [
    "analyze(data8, data8_nodes)"
   ]
  }
 ],
 "metadata": {
  "kernelspec": {
   "display_name": "Python 3",
   "language": "python",
   "name": "python3"
  },
  "language_info": {
   "codemirror_mode": {
    "name": "ipython",
    "version": 3
   },
   "file_extension": ".py",
   "mimetype": "text/x-python",
   "name": "python",
   "nbconvert_exporter": "python",
   "pygments_lexer": "ipython3",
   "version": "3.12.0"
  }
 },
 "nbformat": 4,
 "nbformat_minor": 2
}
