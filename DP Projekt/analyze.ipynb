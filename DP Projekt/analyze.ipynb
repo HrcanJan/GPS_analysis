{
 "cells": [
  {
   "cell_type": "markdown",
   "metadata": {},
   "source": [
    "Import"
   ]
  },
  {
   "cell_type": "code",
   "execution_count": 23,
   "metadata": {},
   "outputs": [],
   "source": [
    "import pandas as pd"
   ]
  },
  {
   "cell_type": "markdown",
   "metadata": {},
   "source": [
    "Load"
   ]
  },
  {
   "cell_type": "code",
   "execution_count": 24,
   "metadata": {},
   "outputs": [],
   "source": [
    "data1 = pd.read_csv(\"./files/edges/geolife.csv\")\n",
    "data2 = pd.read_csv(\"./files/edges/geolife_time_1min.csv\")\n",
    "data3 = pd.read_csv(\"./files/edges/geolife_time_30min.csv\")\n",
    "data4 = pd.read_csv(\"./files/edges/geolife_time_1day.csv\")\n",
    "\n",
    "data1_nodes = pd.read_csv(\"./files/nodes/nodes_geolife.csv\")\n",
    "data2_nodes = pd.read_csv(\"./files/nodes/nodes_geolife_time_1min.csv\")\n",
    "data3_nodes = pd.read_csv(\"./files/nodes/nodes_geolife_time_30min.csv\")\n",
    "data4_nodes = pd.read_csv(\"./files/nodes/nodes_geolife_time_1day.csv\")\n",
    "max_node_number1 = data1_nodes[\"Node\"].max()\n",
    "\n",
    "data5 = pd.read_csv(\"./files/edges/tdrive.csv\")\n",
    "data6 = pd.read_csv(\"./files/edges/tdrive_time_1min.csv\")\n",
    "data7 = pd.read_csv(\"./files/edges/tdrive_time_30min.csv\")\n",
    "data8 = pd.read_csv(\"./files/edges/tdrive_time_1day.csv\")\n",
    "\n",
    "data5_nodes = pd.read_csv(\"./files/nodes/nodes_tdrive.csv\")\n",
    "data6_nodes = pd.read_csv(\"./files/nodes/nodes_tdrive_time_1min.csv\")\n",
    "data7_nodes = pd.read_csv(\"./files/nodes/nodes_tdrive_time_30min.csv\")\n",
    "data8_nodes = pd.read_csv(\"./files/nodes/nodes_tdrive_time_1day.csv\")\n",
    "max_node_number2 = data5_nodes[\"Node\"].max()"
   ]
  },
  {
   "cell_type": "markdown",
   "metadata": {},
   "source": [
    "Function"
   ]
  },
  {
   "cell_type": "code",
   "execution_count": 25,
   "metadata": {},
   "outputs": [],
   "source": [
    "def analyze(edges_df, nodes_df, node_max):\n",
    "\tmerged_edges_df = pd.merge(nodes_df, edges_df, left_on=\"Node\", right_on=\"Taxi1\", how=\"left\")\n",
    "\tmerged_edges_df.fillna(0, inplace=True)\n",
    "\n",
    "\tnum_edges = len(edges_df)\n",
    "\tnum_nodes = len(nodes_df)\n",
    "\n",
    "\t# Max number of edges from a node\n",
    "\tmax_edges_node = merged_edges_df.groupby(\"Node\")[[\"Taxi1\", \"Taxi2\"]].size().idxmax()\n",
    "\tmax_edges_value = merged_edges_df.groupby(\"Node\")[[\"Taxi1\", \"Taxi2\"]].size().max()\n",
    "\n",
    "\t# Min number of edges from a node\n",
    "\tmin_edges_node = merged_edges_df.groupby(\"Node\")[[\"Taxi1\", \"Taxi2\"]].size().idxmin()\n",
    "\tmin_edges_value = merged_edges_df.groupby(\"Node\")[[\"Taxi1\", \"Taxi2\"]].size().min()\n",
    "\n",
    "\t# Average number of edges per node\n",
    "\tavg_edges_per_node = (num_edges / node_max) * 2\n",
    "\tavg_edges_per_active_node = (num_edges / num_nodes) * 2\n",
    "\n",
    "\tprint(f\"Number of edges: {num_edges}\")\n",
    "\tprint(f\"Number of nodes: {node_max}\")\n",
    "\tprint(f\"Number of nodes with edges: {num_nodes}\")\n",
    "\tprint(f\"Max number of edges from a node: Node {max_edges_node} with {max_edges_value} edges\")\n",
    "\tprint(f\"Min number of edges from a node: Node {min_edges_node} with {min_edges_value} edges\")\n",
    "\tprint(f\"Average number of edges per node: {avg_edges_per_node:.2f}\")\n",
    "\tprint(f\"Average number of edges per active node: {avg_edges_per_active_node:.2f}\")"
   ]
  },
  {
   "cell_type": "markdown",
   "metadata": {},
   "source": [
    "Analyze"
   ]
  },
  {
   "cell_type": "code",
   "execution_count": 26,
   "metadata": {},
   "outputs": [
    {
     "name": "stdout",
     "output_type": "stream",
     "text": [
      "Number of edges: 3724\n",
      "Number of nodes: 5841\n",
      "Number of nodes with edges: 2050\n",
      "Max number of edges from a node: Node 1195 with 62 edges\n",
      "Min number of edges from a node: Node 4 with 1 edges\n",
      "Average number of edges per node: 1.28\n",
      "Average number of edges per active node: 3.63\n"
     ]
    }
   ],
   "source": [
    "analyze(data1, data1_nodes, max_node_number1)"
   ]
  },
  {
   "cell_type": "code",
   "execution_count": 27,
   "metadata": {},
   "outputs": [
    {
     "name": "stdout",
     "output_type": "stream",
     "text": [
      "Number of edges: 134\n",
      "Number of nodes: 5841\n",
      "Number of nodes with edges: 268\n",
      "Max number of edges from a node: Node 42 with 1 edges\n",
      "Min number of edges from a node: Node 42 with 1 edges\n",
      "Average number of edges per node: 0.05\n",
      "Average number of edges per active node: 1.00\n"
     ]
    }
   ],
   "source": [
    "analyze(data2, data2_nodes, max_node_number1)"
   ]
  },
  {
   "cell_type": "code",
   "execution_count": 28,
   "metadata": {},
   "outputs": [
    {
     "name": "stdout",
     "output_type": "stream",
     "text": [
      "Number of edges: 134\n",
      "Number of nodes: 5841\n",
      "Number of nodes with edges: 268\n",
      "Max number of edges from a node: Node 42 with 1 edges\n",
      "Min number of edges from a node: Node 42 with 1 edges\n",
      "Average number of edges per node: 0.05\n",
      "Average number of edges per active node: 1.00\n"
     ]
    }
   ],
   "source": [
    "analyze(data3, data3_nodes, max_node_number1)"
   ]
  },
  {
   "cell_type": "code",
   "execution_count": 29,
   "metadata": {},
   "outputs": [
    {
     "name": "stdout",
     "output_type": "stream",
     "text": [
      "Number of edges: 185\n",
      "Number of nodes: 5841\n",
      "Number of nodes with edges: 348\n",
      "Max number of edges from a node: Node 120 with 3 edges\n",
      "Min number of edges from a node: Node 42 with 1 edges\n",
      "Average number of edges per node: 0.06\n",
      "Average number of edges per active node: 1.06\n"
     ]
    }
   ],
   "source": [
    "analyze(data4, data4_nodes, max_node_number1)"
   ]
  },
  {
   "cell_type": "code",
   "execution_count": 30,
   "metadata": {},
   "outputs": [
    {
     "name": "stdout",
     "output_type": "stream",
     "text": [
      "Number of edges: 406\n",
      "Number of nodes: 10351\n",
      "Number of nodes with edges: 497\n",
      "Max number of edges from a node: Node 1072 with 12 edges\n",
      "Min number of edges from a node: Node 10 with 1 edges\n",
      "Average number of edges per node: 0.08\n",
      "Average number of edges per active node: 1.63\n"
     ]
    }
   ],
   "source": [
    "analyze(data5, data5_nodes, max_node_number2)"
   ]
  },
  {
   "cell_type": "code",
   "execution_count": 31,
   "metadata": {},
   "outputs": [
    {
     "name": "stdout",
     "output_type": "stream",
     "text": [
      "Number of edges: 1\n",
      "Number of nodes: 10351\n",
      "Number of nodes with edges: 2\n",
      "Max number of edges from a node: Node 2033 with 1 edges\n",
      "Min number of edges from a node: Node 2033 with 1 edges\n",
      "Average number of edges per node: 0.00\n",
      "Average number of edges per active node: 1.00\n"
     ]
    }
   ],
   "source": [
    "analyze(data6, data6_nodes, max_node_number2)"
   ]
  },
  {
   "cell_type": "code",
   "execution_count": 32,
   "metadata": {},
   "outputs": [
    {
     "name": "stdout",
     "output_type": "stream",
     "text": [
      "Number of edges: 6\n",
      "Number of nodes: 10351\n",
      "Number of nodes with edges: 12\n",
      "Max number of edges from a node: Node 28 with 1 edges\n",
      "Min number of edges from a node: Node 28 with 1 edges\n",
      "Average number of edges per node: 0.00\n",
      "Average number of edges per active node: 1.00\n"
     ]
    }
   ],
   "source": [
    "analyze(data7, data7_nodes, max_node_number2)"
   ]
  },
  {
   "cell_type": "code",
   "execution_count": 33,
   "metadata": {},
   "outputs": [
    {
     "name": "stdout",
     "output_type": "stream",
     "text": [
      "Number of edges: 103\n",
      "Number of nodes: 10351\n",
      "Number of nodes with edges: 162\n",
      "Max number of edges from a node: Node 1072 with 5 edges\n",
      "Min number of edges from a node: Node 16 with 1 edges\n",
      "Average number of edges per node: 0.02\n",
      "Average number of edges per active node: 1.27\n"
     ]
    }
   ],
   "source": [
    "analyze(data8, data8_nodes, max_node_number2)"
   ]
  }
 ],
 "metadata": {
  "kernelspec": {
   "display_name": "Python 3",
   "language": "python",
   "name": "python3"
  },
  "language_info": {
   "codemirror_mode": {
    "name": "ipython",
    "version": 3
   },
   "file_extension": ".py",
   "mimetype": "text/x-python",
   "name": "python",
   "nbconvert_exporter": "python",
   "pygments_lexer": "ipython3",
   "version": "3.12.0"
  }
 },
 "nbformat": 4,
 "nbformat_minor": 2
}
