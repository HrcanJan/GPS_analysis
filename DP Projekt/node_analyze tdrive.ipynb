{
 "cells": [
  {
   "cell_type": "code",
   "execution_count": 1,
   "metadata": {},
   "outputs": [],
   "source": [
    "import json\n",
    "from collections import defaultdict\n",
    "import pandas as pd\n",
    "import numpy as np\n",
    "from tqdm import tqdm\n",
    "from haversine import haversine"
   ]
  },
  {
   "cell_type": "code",
   "execution_count": 2,
   "metadata": {},
   "outputs": [],
   "source": [
    "# Load data from the CSV file into a new DataFrame\n",
    "data = pd.read_csv('./model/gps_data2.csv')"
   ]
  },
  {
   "cell_type": "code",
   "execution_count": 4,
   "metadata": {},
   "outputs": [],
   "source": [
    "data = data[data['Latitude'] >= 39.75]\n",
    "data = data[data['Latitude'] <= 40.1]\n",
    "data = data[data['Longitude'] >= 116.18]\n",
    "data = data[data['Longitude'] <= 116.6]"
   ]
  },
  {
   "cell_type": "code",
   "execution_count": 5,
   "metadata": {},
   "outputs": [],
   "source": [
    "def calculate_distance(coord1, coord2):\n",
    "\treturn haversine(coord1, coord2)"
   ]
  },
  {
   "cell_type": "code",
   "execution_count": 17,
   "metadata": {},
   "outputs": [
    {
     "name": "stderr",
     "output_type": "stream",
     "text": [
      "main data: 28157it [03:35, 130.89it/s]\n"
     ]
    },
    {
     "ename": "KeyboardInterrupt",
     "evalue": "",
     "output_type": "error",
     "traceback": [
      "\u001b[1;31m---------------------------------------------------------------------------\u001b[0m",
      "\u001b[1;31mKeyboardInterrupt\u001b[0m                         Traceback (most recent call last)",
      "\u001b[1;32mc:\\Users\\danstorm\\Desktop\\DP\\GPS_analysis\\DP Projekt\\node_analyze tdrive.ipynb Cell 6\u001b[0m line \u001b[0;36m2\n\u001b[0;32m     <a href='vscode-notebook-cell:/c%3A/Users/danstorm/Desktop/DP/GPS_analysis/DP%20Projekt/node_analyze%20tdrive.ipynb#W4sZmlsZQ%3D%3D?line=11'>12</a>\u001b[0m \tdistance \u001b[39m=\u001b[39m calculate_distance(location, other_location)\n\u001b[0;32m     <a href='vscode-notebook-cell:/c%3A/Users/danstorm/Desktop/DP/GPS_analysis/DP%20Projekt/node_analyze%20tdrive.ipynb#W4sZmlsZQ%3D%3D?line=13'>14</a>\u001b[0m \t\u001b[39mif\u001b[39;00m distance \u001b[39m<\u001b[39m\u001b[39m=\u001b[39m meeting_distance_threshold:\n\u001b[0;32m     <a href='vscode-notebook-cell:/c%3A/Users/danstorm/Desktop/DP/GPS_analysis/DP%20Projekt/node_analyze%20tdrive.ipynb#W4sZmlsZQ%3D%3D?line=14'>15</a>\u001b[0m \t\tmeeting_info \u001b[39m=\u001b[39m {\n\u001b[0;32m     <a href='vscode-notebook-cell:/c%3A/Users/danstorm/Desktop/DP/GPS_analysis/DP%20Projekt/node_analyze%20tdrive.ipynb#W4sZmlsZQ%3D%3D?line=15'>16</a>\u001b[0m \t\t\t\u001b[39m\"\u001b[39m\u001b[39mTaxi1\u001b[39m\u001b[39m\"\u001b[39m: \u001b[39mint\u001b[39m(other_taxi_id),\n\u001b[0;32m     <a href='vscode-notebook-cell:/c%3A/Users/danstorm/Desktop/DP/GPS_analysis/DP%20Projekt/node_analyze%20tdrive.ipynb#W4sZmlsZQ%3D%3D?line=16'>17</a>\u001b[0m \t\t\t\u001b[39m\"\u001b[39m\u001b[39mTaxi2\u001b[39m\u001b[39m\"\u001b[39m: \u001b[39mint\u001b[39m(taxi_id),\n\u001b[0;32m     <a href='vscode-notebook-cell:/c%3A/Users/danstorm/Desktop/DP/GPS_analysis/DP%20Projekt/node_analyze%20tdrive.ipynb#W4sZmlsZQ%3D%3D?line=17'>18</a>\u001b[0m \t\t\t\u001b[39m\"\u001b[39m\u001b[39mLocation\u001b[39m\u001b[39m\"\u001b[39m: {\n\u001b[0;32m     <a href='vscode-notebook-cell:/c%3A/Users/danstorm/Desktop/DP/GPS_analysis/DP%20Projekt/node_analyze%20tdrive.ipynb#W4sZmlsZQ%3D%3D?line=18'>19</a>\u001b[0m \t\t\t\t\u001b[39m\"\u001b[39m\u001b[39mLatitude\u001b[39m\u001b[39m\"\u001b[39m: location[\u001b[39m0\u001b[39m],\n\u001b[0;32m     <a href='vscode-notebook-cell:/c%3A/Users/danstorm/Desktop/DP/GPS_analysis/DP%20Projekt/node_analyze%20tdrive.ipynb#W4sZmlsZQ%3D%3D?line=19'>20</a>\u001b[0m \t\t\t\t\u001b[39m\"\u001b[39m\u001b[39mLongitude\u001b[39m\u001b[39m\"\u001b[39m: location[\u001b[39m1\u001b[39m]\n\u001b[0;32m     <a href='vscode-notebook-cell:/c%3A/Users/danstorm/Desktop/DP/GPS_analysis/DP%20Projekt/node_analyze%20tdrive.ipynb#W4sZmlsZQ%3D%3D?line=20'>21</a>\u001b[0m \t\t\t},\n\u001b[0;32m     <a href='vscode-notebook-cell:/c%3A/Users/danstorm/Desktop/DP/GPS_analysis/DP%20Projekt/node_analyze%20tdrive.ipynb#W4sZmlsZQ%3D%3D?line=21'>22</a>\u001b[0m \t\t\t\u001b[39m\"\u001b[39m\u001b[39mDistance (meters)\u001b[39m\u001b[39m\"\u001b[39m: distance,\n\u001b[0;32m     <a href='vscode-notebook-cell:/c%3A/Users/danstorm/Desktop/DP/GPS_analysis/DP%20Projekt/node_analyze%20tdrive.ipynb#W4sZmlsZQ%3D%3D?line=22'>23</a>\u001b[0m \t\t\t\u001b[39m\"\u001b[39m\u001b[39mTimestamp1\u001b[39m\u001b[39m\"\u001b[39m: row[\u001b[39m\"\u001b[39m\u001b[39mTimestamp\u001b[39m\u001b[39m\"\u001b[39m],\n\u001b[1;32m---> <a href='vscode-notebook-cell:/c%3A/Users/danstorm/Desktop/DP/GPS_analysis/DP%20Projekt/node_analyze%20tdrive.ipynb#W4sZmlsZQ%3D%3D?line=23'>24</a>\u001b[0m \t\t\t\u001b[39m\"\u001b[39m\u001b[39mTimestamp2\u001b[39m\u001b[39m\"\u001b[39m: data\u001b[39m.\u001b[39;49mloc[data[\u001b[39m\"\u001b[39;49m\u001b[39mTaxi ID\u001b[39;49m\u001b[39m\"\u001b[39;49m] \u001b[39m==\u001b[39;49m other_taxi_id, \u001b[39m\"\u001b[39;49m\u001b[39mTimestamp\u001b[39;49m\u001b[39m\"\u001b[39;49m]\u001b[39m.\u001b[39miloc[\u001b[39m0\u001b[39m]\n\u001b[0;32m     <a href='vscode-notebook-cell:/c%3A/Users/danstorm/Desktop/DP/GPS_analysis/DP%20Projekt/node_analyze%20tdrive.ipynb#W4sZmlsZQ%3D%3D?line=24'>25</a>\u001b[0m \t\t}\n\u001b[0;32m     <a href='vscode-notebook-cell:/c%3A/Users/danstorm/Desktop/DP/GPS_analysis/DP%20Projekt/node_analyze%20tdrive.ipynb#W4sZmlsZQ%3D%3D?line=26'>27</a>\u001b[0m \t\tmeeting_info_list\u001b[39m.\u001b[39mappend(meeting_info)\n\u001b[0;32m     <a href='vscode-notebook-cell:/c%3A/Users/danstorm/Desktop/DP/GPS_analysis/DP%20Projekt/node_analyze%20tdrive.ipynb#W4sZmlsZQ%3D%3D?line=28'>29</a>\u001b[0m meeting_points[geohash_key][taxi_id] \u001b[39m=\u001b[39m location\n",
      "File \u001b[1;32mc:\\Users\\danstorm\\AppData\\Local\\Programs\\Python\\Python312\\Lib\\site-packages\\pandas\\core\\indexing.py:1147\u001b[0m, in \u001b[0;36m_LocationIndexer.__getitem__\u001b[1;34m(self, key)\u001b[0m\n\u001b[0;32m   1145\u001b[0m     \u001b[39mif\u001b[39;00m \u001b[39mself\u001b[39m\u001b[39m.\u001b[39m_is_scalar_access(key):\n\u001b[0;32m   1146\u001b[0m         \u001b[39mreturn\u001b[39;00m \u001b[39mself\u001b[39m\u001b[39m.\u001b[39mobj\u001b[39m.\u001b[39m_get_value(\u001b[39m*\u001b[39mkey, takeable\u001b[39m=\u001b[39m\u001b[39mself\u001b[39m\u001b[39m.\u001b[39m_takeable)\n\u001b[1;32m-> 1147\u001b[0m     \u001b[39mreturn\u001b[39;00m \u001b[39mself\u001b[39;49m\u001b[39m.\u001b[39;49m_getitem_tuple(key)\n\u001b[0;32m   1148\u001b[0m \u001b[39melse\u001b[39;00m:\n\u001b[0;32m   1149\u001b[0m     \u001b[39m# we by definition only have the 0th axis\u001b[39;00m\n\u001b[0;32m   1150\u001b[0m     axis \u001b[39m=\u001b[39m \u001b[39mself\u001b[39m\u001b[39m.\u001b[39maxis \u001b[39mor\u001b[39;00m \u001b[39m0\u001b[39m\n",
      "File \u001b[1;32mc:\\Users\\danstorm\\AppData\\Local\\Programs\\Python\\Python312\\Lib\\site-packages\\pandas\\core\\indexing.py:1330\u001b[0m, in \u001b[0;36m_LocIndexer._getitem_tuple\u001b[1;34m(self, tup)\u001b[0m\n\u001b[0;32m   1328\u001b[0m \u001b[39mwith\u001b[39;00m suppress(IndexingError):\n\u001b[0;32m   1329\u001b[0m     tup \u001b[39m=\u001b[39m \u001b[39mself\u001b[39m\u001b[39m.\u001b[39m_expand_ellipsis(tup)\n\u001b[1;32m-> 1330\u001b[0m     \u001b[39mreturn\u001b[39;00m \u001b[39mself\u001b[39;49m\u001b[39m.\u001b[39;49m_getitem_lowerdim(tup)\n\u001b[0;32m   1332\u001b[0m \u001b[39m# no multi-index, so validate all of the indexers\u001b[39;00m\n\u001b[0;32m   1333\u001b[0m tup \u001b[39m=\u001b[39m \u001b[39mself\u001b[39m\u001b[39m.\u001b[39m_validate_tuple_indexer(tup)\n",
      "File \u001b[1;32mc:\\Users\\danstorm\\AppData\\Local\\Programs\\Python\\Python312\\Lib\\site-packages\\pandas\\core\\indexing.py:1063\u001b[0m, in \u001b[0;36m_LocationIndexer._getitem_lowerdim\u001b[1;34m(self, tup)\u001b[0m\n\u001b[0;32m   1061\u001b[0m             \u001b[39mreturn\u001b[39;00m section\n\u001b[0;32m   1062\u001b[0m         \u001b[39m# This is an elided recursive call to iloc/loc\u001b[39;00m\n\u001b[1;32m-> 1063\u001b[0m         \u001b[39mreturn\u001b[39;00m \u001b[39mgetattr\u001b[39;49m(section, \u001b[39mself\u001b[39;49m\u001b[39m.\u001b[39;49mname)[new_key]\n\u001b[0;32m   1065\u001b[0m \u001b[39mraise\u001b[39;00m IndexingError(\u001b[39m\"\u001b[39m\u001b[39mnot applicable\u001b[39m\u001b[39m\"\u001b[39m)\n",
      "File \u001b[1;32mc:\\Users\\danstorm\\AppData\\Local\\Programs\\Python\\Python312\\Lib\\site-packages\\pandas\\core\\indexing.py:1153\u001b[0m, in \u001b[0;36m_LocationIndexer.__getitem__\u001b[1;34m(self, key)\u001b[0m\n\u001b[0;32m   1150\u001b[0m axis \u001b[39m=\u001b[39m \u001b[39mself\u001b[39m\u001b[39m.\u001b[39maxis \u001b[39mor\u001b[39;00m \u001b[39m0\u001b[39m\n\u001b[0;32m   1152\u001b[0m maybe_callable \u001b[39m=\u001b[39m com\u001b[39m.\u001b[39mapply_if_callable(key, \u001b[39mself\u001b[39m\u001b[39m.\u001b[39mobj)\n\u001b[1;32m-> 1153\u001b[0m \u001b[39mreturn\u001b[39;00m \u001b[39mself\u001b[39;49m\u001b[39m.\u001b[39;49m_getitem_axis(maybe_callable, axis\u001b[39m=\u001b[39;49maxis)\n",
      "File \u001b[1;32mc:\\Users\\danstorm\\AppData\\Local\\Programs\\Python\\Python312\\Lib\\site-packages\\pandas\\core\\indexing.py:1375\u001b[0m, in \u001b[0;36m_LocIndexer._getitem_axis\u001b[1;34m(self, key, axis)\u001b[0m\n\u001b[0;32m   1373\u001b[0m     \u001b[39mreturn\u001b[39;00m \u001b[39mself\u001b[39m\u001b[39m.\u001b[39m_get_slice_axis(key, axis\u001b[39m=\u001b[39maxis)\n\u001b[0;32m   1374\u001b[0m \u001b[39melif\u001b[39;00m com\u001b[39m.\u001b[39mis_bool_indexer(key):\n\u001b[1;32m-> 1375\u001b[0m     \u001b[39mreturn\u001b[39;00m \u001b[39mself\u001b[39;49m\u001b[39m.\u001b[39;49m_getbool_axis(key, axis\u001b[39m=\u001b[39;49maxis)\n\u001b[0;32m   1376\u001b[0m \u001b[39melif\u001b[39;00m is_list_like_indexer(key):\n\u001b[0;32m   1377\u001b[0m     \u001b[39m# an iterable multi-selection\u001b[39;00m\n\u001b[0;32m   1378\u001b[0m     \u001b[39mif\u001b[39;00m \u001b[39mnot\u001b[39;00m (\u001b[39misinstance\u001b[39m(key, \u001b[39mtuple\u001b[39m) \u001b[39mand\u001b[39;00m \u001b[39misinstance\u001b[39m(labels, MultiIndex)):\n",
      "File \u001b[1;32mc:\\Users\\danstorm\\AppData\\Local\\Programs\\Python\\Python312\\Lib\\site-packages\\pandas\\core\\indexing.py:1172\u001b[0m, in \u001b[0;36m_LocationIndexer._getbool_axis\u001b[1;34m(self, key, axis)\u001b[0m\n\u001b[0;32m   1170\u001b[0m labels \u001b[39m=\u001b[39m \u001b[39mself\u001b[39m\u001b[39m.\u001b[39mobj\u001b[39m.\u001b[39m_get_axis(axis)\n\u001b[0;32m   1171\u001b[0m key \u001b[39m=\u001b[39m check_bool_indexer(labels, key)\n\u001b[1;32m-> 1172\u001b[0m inds \u001b[39m=\u001b[39m key\u001b[39m.\u001b[39;49mnonzero()[\u001b[39m0\u001b[39m]\n\u001b[0;32m   1173\u001b[0m \u001b[39mreturn\u001b[39;00m \u001b[39mself\u001b[39m\u001b[39m.\u001b[39mobj\u001b[39m.\u001b[39m_take_with_is_copy(inds, axis\u001b[39m=\u001b[39maxis)\n",
      "\u001b[1;31mKeyboardInterrupt\u001b[0m: "
     ]
    }
   ],
   "source": [
    "meeting_points = defaultdict(list)\n",
    "meeting_distance_threshold = 0.1\n",
    "meeting_info_list = []\n",
    "\n",
    "for index, row in tqdm(data.iterrows(), desc=\"main data\"):\n",
    "\ttaxi_id = row[\"Taxi ID\"]\n",
    "\tlocation = (row[\"Latitude\"], row[\"Longitude\"])\n",
    "\n",
    "\tif meeting_points[location]:\n",
    "\t\tfor other_taxi_id in meeting_points[location]:\n",
    "\t\t\tif taxi_id != other_taxi_id:\n",
    "\t\t\t\tother_location = (data.loc[data[\"Taxi ID\"] == other_taxi_id, \"Latitude\"].iloc[0], data.loc[data[\"Taxi ID\"] == other_taxi_id, \"Longitude\"].iloc[0])\n",
    "\n",
    "\t\t\t\tdistance = calculate_distance(location, other_location)\n",
    "\t\t\t\tif distance <= meeting_distance_threshold:\n",
    "\t\t\t\t\tmeeting_info = {\n",
    "\t\t\t\t\t\t\"Taxi1\": int(other_taxi_id),\n",
    "\t\t\t\t\t\t\"Taxi2\": int(taxi_id),\n",
    "\t\t\t\t\t\t\"Location\": {\n",
    "\t\t\t\t\t\t\t\"Latitude\": location[0],\n",
    "\t\t\t\t\t\t\t\"Longitude\": location[1]\n",
    "\t\t\t\t\t\t},\n",
    "\t\t\t\t\t\t\"Distance (meters)\": distance,\n",
    "\t\t\t\t\t\t\"Timestamp1\": row[\"Timestamp\"],\n",
    "\t\t\t\t\t\t\"Timestamp2\": data.loc[data[\"Taxi ID\"] == other_taxi_id, \"Timestamp\"].iloc[0]\n",
    "\t\t\t\t\t}\n",
    "\n",
    "\t\t\t\t\tmeeting_info_list.append(meeting_info)\n",
    "\n",
    "\tmeeting_points[location].extend([taxi_id])"
   ]
  },
  {
   "cell_type": "code",
   "execution_count": 7,
   "metadata": {},
   "outputs": [],
   "source": [
    "with open('./files/edges/tdrive.json', 'w') as json_file:\n",
    "    json.dump(meeting_info_list, json_file, indent=4)"
   ]
  }
 ],
 "metadata": {
  "kernelspec": {
   "display_name": "Python 3",
   "language": "python",
   "name": "python3"
  },
  "language_info": {
   "codemirror_mode": {
    "name": "ipython",
    "version": 3
   },
   "file_extension": ".py",
   "mimetype": "text/x-python",
   "name": "python",
   "nbconvert_exporter": "python",
   "pygments_lexer": "ipython3",
   "version": "3.12.0"
  }
 },
 "nbformat": 4,
 "nbformat_minor": 2
}
